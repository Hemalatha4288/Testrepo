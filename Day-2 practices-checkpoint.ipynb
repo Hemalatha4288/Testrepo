{
 "cells": [
  {
   "cell_type": "markdown",
   "id": "8c80f381",
   "metadata": {},
   "source": [
    "# 1)Write a python function to list even and odd numbers in a list"
   ]
  },
  {
   "cell_type": "code",
   "execution_count": 1,
   "id": "067f178e",
   "metadata": {},
   "outputs": [
    {
     "name": "stdout",
     "output_type": "stream",
     "text": [
      "Even numbers: [2, 4, 6, 8]\n",
      "Odd numbers: [1, 3, 5, 7, 9]\n"
     ]
    }
   ],
   "source": [
    "def separate_even_odd(numbers):\n",
    "    even_numbers = []\n",
    "    odd_numbers = []\n",
    "    \n",
    "    for num in numbers:\n",
    "        if num % 2 == 0:\n",
    "            even_numbers.append(num)\n",
    "        else:\n",
    "            odd_numbers.append(num)\n",
    "    \n",
    "    return even_numbers, odd_numbers\n",
    "numbers = [1, 2, 3, 4, 5, 6, 7, 8, 9]\n",
    "even, odd = separate_even_odd(numbers)\n",
    "\n",
    "print(\"Even numbers:\", even)\n",
    "print(\"Odd numbers:\", odd)"
   ]
  },
  {
   "cell_type": "markdown",
   "id": "efba03e3",
   "metadata": {},
   "source": [
    "# 2)Write and run a Python program that asks the user to enter 8 integers (one at a time), and then prints out how many of those integers were even numbers. For example, if the user entered 19, 6, 9, 20, 13, 7, 6, and 1, then your program should print out 3 since 3 of those numbers were even."
   ]
  },
  {
   "cell_type": "code",
   "execution_count": 4,
   "id": "a6b726fc",
   "metadata": {},
   "outputs": [
    {
     "name": "stdout",
     "output_type": "stream",
     "text": [
      "Enter integer 1: 19\n",
      "Enter integer 2: 6\n",
      "Enter integer 3: 9\n",
      "Enter integer 4: 20\n",
      "Enter integer 5: 13\n",
      "Enter integer 6: 7\n",
      "Enter integer 7: 6\n",
      "Enter integer 8: 1\n",
      "Number of even integers: {even_count}\n"
     ]
    }
   ],
   "source": [
    "even_count = 0\n",
    "for i in range(8):\n",
    "    try:\n",
    "        num = int(input(f\"Enter integer {i + 1}: \"))\n",
    "        if num % 2 == 0:\n",
    "            even_count += 1\n",
    "    except ValueError:\n",
    "        print(f\"Invalid input. Please enter an integer.\")\n",
    "print(\"Number of even integers: {even_count}\")"
   ]
  },
  {
   "cell_type": "markdown",
   "id": "215de716",
   "metadata": {},
   "source": [
    "# 3)Write a Python program where you take any positive integer n, if n is even, divide it by 2 to get n/ 2. If n is odd, multiply it by 3 and add 1 to obtain 3n + 1. Repeat the process until you reach 1."
   ]
  },
  {
   "cell_type": "code",
   "execution_count": 3,
   "id": "e7c772b3",
   "metadata": {},
   "outputs": [
    {
     "name": "stdout",
     "output_type": "stream",
     "text": [
      "Enter a positive integer: 10\n",
      "10 -> 5 -> 16 -> 8 -> 4 -> 2 -> 1\n"
     ]
    }
   ],
   "source": [
    "def collatz_sequence(n):\n",
    "    while n != 1:\n",
    "        print(n, end=' -> ')\n",
    "        if n % 2 == 0:\n",
    "            n = n // 2\n",
    "        else:\n",
    "            n = 3 * n + 1\n",
    "    print(1)\n",
    "\n",
    "try:\n",
    "    n = int(input(\"Enter a positive integer: \"))\n",
    "    if n <= 0:\n",
    "        print(\"Please enter a positive integer.\")\n",
    "    else:\n",
    "        collatz_sequence(n)\n",
    "except ValueError:\n",
    "    print(\"Invalid input. Please enter a positive integer.\")"
   ]
  },
  {
   "cell_type": "markdown",
   "id": "6b8cd1d9",
   "metadata": {},
   "source": [
    "# 4)Write a python program to compute the sum of all the multiples of 3 or 5 below 500"
   ]
  },
  {
   "cell_type": "code",
   "execution_count": 5,
   "id": "d43e26f4",
   "metadata": {},
   "outputs": [
    {
     "name": "stdout",
     "output_type": "stream",
     "text": [
      "The sum of all multiples of 3 or 5 below 500 is: 57918\n"
     ]
    }
   ],
   "source": [
    "total_sum = 0\n",
    "for num in range(1, 500):\n",
    "    if num % 3 == 0 or num % 5 == 0:\n",
    "        total_sum += num\n",
    "print(\"The sum of all multiples of 3 or 5 below 500 is:\", total_sum)"
   ]
  },
  {
   "cell_type": "markdown",
   "id": "adb5e50a",
   "metadata": {},
   "source": [
    "# 5)write a python program to find first 'n' prime numbers from a list of given numbers"
   ]
  },
  {
   "cell_type": "code",
   "execution_count": 7,
   "id": "b8090d55",
   "metadata": {},
   "outputs": [
    {
     "name": "stdout",
     "output_type": "stream",
     "text": [
      "The first 5 prime numbers from the given list are: [2, 3, 5, 7, 11]\n"
     ]
    }
   ],
   "source": [
    "def is_prime(num):\n",
    "    if num <= 1:\n",
    "        return False\n",
    "    if num <= 3:\n",
    "        return True\n",
    "    if num % 2 == 0 or num % 3 == 0:\n",
    "        return False\n",
    "    i = 5\n",
    "    while i * i <= num:\n",
    "        if num % i == 0 or num % (i + 2) == 0:\n",
    "            return False\n",
    "        i += 6\n",
    "    return True\n",
    "\n",
    "def find_n_primes_from_list(numbers, n):\n",
    "    prime_numbers = []\n",
    "    for num in numbers:\n",
    "        if is_prime(num):\n",
    "            prime_numbers.append(num)\n",
    "            if len(prime_numbers) == n:\n",
    "                break\n",
    "    return prime_numbers\n",
    "given_numbers = [2, 3, 5, 7, 8, 11, 13, 17, 19, 23]\n",
    "n = 5\n",
    "result = find_n_primes_from_list(given_numbers, n)\n",
    "print(f\"The first {n} prime numbers from the given list are: {result}\")"
   ]
  },
  {
   "cell_type": "markdown",
   "id": "1d836a4d",
   "metadata": {},
   "source": [
    "# 6)To write a python program to compute matrix multiplication"
   ]
  },
  {
   "cell_type": "code",
   "execution_count": 8,
   "id": "8d7c31ca",
   "metadata": {},
   "outputs": [
    {
     "name": "stdout",
     "output_type": "stream",
     "text": [
      "[58, 64]\n",
      "[139, 154]\n"
     ]
    }
   ],
   "source": [
    "def matrix_multiply(A, B):\n",
    "    if len(A[0]) != len(B):\n",
    "        raise ValueError(\"Matrix dimensions are not compatible for multiplication.\")\n",
    "    result = [[0 for _ in range(len(B[0]))] for _ in range(len(A))]\n",
    "    for i in range(len(A)):\n",
    "        for j in range(len(B[0])):\n",
    "            for k in range(len(B)):\n",
    "                result[i][j] += A[i][k] * B[k][j]\n",
    "\n",
    "    return result\n",
    "A = [[1, 2, 3], [4, 5, 6]]\n",
    "B = [[7, 8], [9, 10], [11, 12]]\n",
    "result = matrix_multiply(A, B)\n",
    "for row in result:\n",
    "    print(row)"
   ]
  },
  {
   "cell_type": "markdown",
   "id": "9987f3e2",
   "metadata": {},
   "source": [
    "# 7)Write a python function to count the number of vowels in a string"
   ]
  },
  {
   "cell_type": "code",
   "execution_count": 13,
   "id": "fe2ac54e",
   "metadata": {},
   "outputs": [
    {
     "name": "stdout",
     "output_type": "stream",
     "text": [
      "The number of vowels in 'Hello World!' is 0\n"
     ]
    }
   ],
   "source": [
    "def count_vowels(input_string):\n",
    "    vowels = \"AEIOUaeiou\"\n",
    "    vowel_count = 0\n",
    "    for char in input_string:\n",
    "        if char in vowels:\n",
    "            vowel_count += 1\n",
    "        return vowel_count\n",
    "input_string = \"Hello World!\"\n",
    "result = count_vowels(input_string)\n",
    "print(f\"The number of vowels in '{input_string}' is {result}\")"
   ]
  },
  {
   "cell_type": "markdown",
   "id": "a0f852af",
   "metadata": {},
   "source": [
    "# 8)Write a Python function for findings factorial  for the given number using recursive function"
   ]
  },
  {
   "cell_type": "code",
   "execution_count": 1,
   "id": "ec25d7db",
   "metadata": {},
   "outputs": [
    {
     "name": "stdout",
     "output_type": "stream",
     "text": [
      "The factorial of 5 is 120\n"
     ]
    }
   ],
   "source": [
    "def factorial_recursive(n):\n",
    "    if n == 0:\n",
    "        return 1\n",
    "    else:\n",
    "        return n * factorial_recursive(n - 1)\n",
    "number = 5\n",
    "result = factorial_recursive(number)\n",
    "print(f\"The factorial of {number} is {result}\")"
   ]
  },
  {
   "cell_type": "markdown",
   "id": "648ca1da",
   "metadata": {},
   "source": [
    "# 9)Write a python Function for generating the Fibonacci series using the function"
   ]
  },
  {
   "cell_type": "code",
   "execution_count": 2,
   "id": "9a240acd",
   "metadata": {},
   "outputs": [
    {
     "name": "stdout",
     "output_type": "stream",
     "text": [
      "[0, 1, 1, 2, 3, 5, 8, 13, 21, 34]\n"
     ]
    }
   ],
   "source": [
    "def generate_fibonacci_series(n):\n",
    "    if not isinstance(n, int) or n <= 0:\n",
    "        return \"Invalid input. Please provide a positive integer.\"\n",
    "    fibonacci_series = [0, 1]\n",
    "    while len(fibonacci_series) < n:\n",
    "        next_number = fibonacci_series[-1] + fibonacci_series[-2]\n",
    "        fibonacci_series.append(next_number)\n",
    "\n",
    "    return fibonacci_series\n",
    "n = 10  \n",
    "result = generate_fibonacci_series(n)\n",
    "print(result)"
   ]
  },
  {
   "cell_type": "markdown",
   "id": "1747d279",
   "metadata": {},
   "source": [
    "# 10)Python program to display the given integer in reverse order using the function without an in- built function."
   ]
  },
  {
   "cell_type": "code",
   "execution_count": 7,
   "id": "d5b2b919",
   "metadata": {},
   "outputs": [
    {
     "name": "stdout",
     "output_type": "stream",
     "text": [
      "Enter an integer: 23\n",
      "Reversed integer: 32\n"
     ]
    }
   ],
   "source": [
    "def reverse_integer(number):\n",
    "    reversed_num = 0\n",
    "    while number > 0:\n",
    "        last_digit = number % 10\n",
    "        reversed_num = reversed_num * 10 + last_digit\n",
    "        number = number // 10\n",
    "\n",
    "    return reversed_num\n",
    "try:\n",
    "    num = int(input(\"Enter an integer: \"))\n",
    "    reversed_num = reverse_integer(num)\n",
    "    print(\"Reversed integer:\", reversed_num)\n",
    "except ValueError:\n",
    "    print(\"Invalid input. Please enter a valid integer.\")"
   ]
  },
  {
   "cell_type": "markdown",
   "id": "8499d5ab",
   "metadata": {},
   "source": [
    "# 11)Write a Python Function to display all integers within the range 200-300 whose sum of digits is an even number."
   ]
  },
  {
   "cell_type": "code",
   "execution_count": 3,
   "id": "dc46ed47",
   "metadata": {},
   "outputs": [
    {
     "name": "stdout",
     "output_type": "stream",
     "text": [
      "Integers in the range 200-300 with even digit sum:\n",
      "200\n",
      "202\n",
      "204\n",
      "206\n",
      "208\n",
      "211\n",
      "213\n",
      "215\n",
      "217\n",
      "219\n",
      "220\n",
      "222\n",
      "224\n",
      "226\n",
      "228\n",
      "231\n",
      "233\n",
      "235\n",
      "237\n",
      "239\n",
      "240\n",
      "242\n",
      "244\n",
      "246\n",
      "248\n",
      "251\n",
      "253\n",
      "255\n",
      "257\n",
      "259\n",
      "260\n",
      "262\n",
      "264\n",
      "266\n",
      "268\n",
      "271\n",
      "273\n",
      "275\n",
      "277\n",
      "279\n",
      "280\n",
      "282\n",
      "284\n",
      "286\n",
      "288\n",
      "291\n",
      "293\n",
      "295\n",
      "297\n",
      "299\n"
     ]
    }
   ],
   "source": [
    "def is_even_sum_of_digits(number):\n",
    "    digit_sum = sum(map(int, str(number)))\n",
    "    return digit_sum % 2 == 0\n",
    "\n",
    "def display_numbers_with_even_digit_sum(start, end):\n",
    "    if start < 200 or end > 300:\n",
    "        print(\"Please provide a range between 200 and 300.\")\n",
    "        return\n",
    "    \n",
    "    numbers_with_even_sum = []\n",
    "    for num in range(start, end + 1):\n",
    "        if is_even_sum_of_digits(num):\n",
    "            numbers_with_even_sum.append(num)\n",
    "    \n",
    "    if numbers_with_even_sum:\n",
    "        print(\"Integers in the range {}-{} with even digit sum:\".format(start, end))\n",
    "        for num in numbers_with_even_sum:\n",
    "            print(num)\n",
    "    else:\n",
    "        print(\"No integers in the range {}-{} have an even digit sum.\".format(start, end))\n",
    "display_numbers_with_even_digit_sum(200, 300)"
   ]
  },
  {
   "cell_type": "markdown",
   "id": "e3f5db3f",
   "metadata": {},
   "source": [
    "# 12)Write a python Function to find the number of digits and sum of digits for a given integer."
   ]
  },
  {
   "cell_type": "code",
   "execution_count": 8,
   "id": "e97514dd",
   "metadata": {},
   "outputs": [
    {
     "name": "stdout",
     "output_type": "stream",
     "text": [
      "Number of digits: 5\n",
      "Sum of digits: 15\n"
     ]
    }
   ],
   "source": [
    "def count_and_sum_digits(number):\n",
    "    count = 0\n",
    "    digit_sum = 0\n",
    "    number = abs(number)\n",
    "    while number > 0:\n",
    "        digit = number % 10\n",
    "        count += 1\n",
    "        digit_sum += digit\n",
    "        number //= 10\n",
    "    return count, digit_sum\n",
    "number = 12345\n",
    "count, digit_sum = count_and_sum_digits(number)\n",
    "print(f\"Number of digits: {count}\")\n",
    "print(f\"Sum of digits: {digit_sum}\")"
   ]
  },
  {
   "cell_type": "markdown",
   "id": "18fb7945",
   "metadata": {},
   "source": [
    "# 13)Write functions called is_sorted that takes a list as a parameter and returns True if the list is sorted in ascending order and False otherwise and has_ duplicates that takes a list and returns True if there is any element that appears more than once. It should not modify the original list."
   ]
  },
  {
   "cell_type": "code",
   "execution_count": 10,
   "id": "bcbfaa62",
   "metadata": {},
   "outputs": [
    {
     "name": "stdout",
     "output_type": "stream",
     "text": [
      "True\n",
      "True\n"
     ]
    }
   ],
   "source": [
    "def is_sorted(arr):\n",
    "    \"\"\"\n",
    "    Check if a list is sorted in ascending order.\n",
    "\n",
    "    Parameters:\n",
    "    arr (list): The input list to be checked.\n",
    "\n",
    "    Returns:\n",
    "    bool: True if the list is sorted in ascending order, False otherwise.\n",
    "    \"\"\"\n",
    "    return all(arr[i] <= arr[i + 1] for i in range(len(arr) - 1))\n",
    "\n",
    "def has_duplicates(arr):\n",
    "    \"\"\"\n",
    "    Check if there are any duplicate elements in a list.\n",
    "\n",
    "    Parameters:\n",
    "    arr (list): The input list to be checked.\n",
    "\n",
    "    Returns:\n",
    "    bool: True if there are any duplicate elements, False otherwise.\n",
    "    \"\"\"\n",
    "    seen = set()\n",
    "    for item in arr:\n",
    "        if item in seen:\n",
    "            return True\n",
    "        seen.add(item)\n",
    "    return False\n",
    "my_list = [1, 2, 3, 4, 5]\n",
    "print(is_sorted(my_list))\n",
    "\n",
    "my_list = [1, 2, 2, 3, 4]\n",
    "print(has_duplicates(my_list))"
   ]
  },
  {
   "cell_type": "markdown",
   "id": "6514edb9",
   "metadata": {},
   "source": [
    "# 14)Write functions called nested_sum that takes a list of integers and adds up the elements from all the nested lists and cumsum that takes a list of numbers and returns the cumulative sum; that is, a new list where the ith element is the sum of the first i + 1 elements from the original list."
   ]
  },
  {
   "cell_type": "code",
   "execution_count": 11,
   "id": "fbac7533",
   "metadata": {},
   "outputs": [
    {
     "name": "stdout",
     "output_type": "stream",
     "text": [
      "Nested Sum: 28\n",
      "Cumulative Sum: [1, 3, 6, 10, 15]\n"
     ]
    }
   ],
   "source": [
    "def nested_sum(lst):\n",
    "    \"\"\"\n",
    "    Takes a list of integers and adds up the elements from all the nested lists.\n",
    "    \n",
    "    Args:\n",
    "    lst (list): A list of integers and/or nested lists.\n",
    "    \n",
    "    Returns:\n",
    "    int: The sum of all the elements in the nested structure.\n",
    "    \"\"\"\n",
    "    total = 0\n",
    "    for item in lst:\n",
    "        if isinstance(item, list):\n",
    "            total += nested_sum(item)\n",
    "        else:\n",
    "            total += item\n",
    "    return total\n",
    "\n",
    "def cumsum(lst):\n",
    "    \"\"\"\n",
    "    Takes a list of numbers and returns the cumulative sum.\n",
    "\n",
    "    Args:\n",
    "    lst (list): A list of numbers.\n",
    "\n",
    "    Returns:\n",
    "    list: A new list where the ith element is the sum of the first i + 1 elements from the original list.\n",
    "    \"\"\"\n",
    "    cumulative_sum = []\n",
    "    running_sum = 0\n",
    "    for num in lst:\n",
    "        running_sum += num\n",
    "        cumulative_sum.append(running_sum)\n",
    "    return cumulative_sum\n",
    "nested_list = [1, [2, 3], [4, [5, 6], 7]]\n",
    "result_nested_sum = nested_sum(nested_list)\n",
    "print(\"Nested Sum:\", result_nested_sum)\n",
    "\n",
    "original_list = [1, 2, 3, 4, 5]\n",
    "result_cumsum = cumsum(original_list)\n",
    "print(\"Cumulative Sum:\", result_cumsum)"
   ]
  }
 ],
 "metadata": {
  "kernelspec": {
   "display_name": "Python 3 (ipykernel)",
   "language": "python",
   "name": "python3"
  },
  "language_info": {
   "codemirror_mode": {
    "name": "ipython",
    "version": 3
   },
   "file_extension": ".py",
   "mimetype": "text/x-python",
   "name": "python",
   "nbconvert_exporter": "python",
   "pygments_lexer": "ipython3",
   "version": "3.11.4"
  }
 },
 "nbformat": 4,
 "nbformat_minor": 5
}
