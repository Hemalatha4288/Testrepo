{
 "cells": [
  {
   "cell_type": "markdown",
   "id": "181c6293",
   "metadata": {},
   "source": [
    "# 1)write a python function that copis a file reading and writing up to 50 characters at a time"
   ]
  },
  {
   "cell_type": "code",
   "execution_count": 29,
   "id": "a68ae8c6",
   "metadata": {},
   "outputs": [
    {
     "name": "stdout",
     "output_type": "stream",
     "text": [
      "File 'source.txt' copied to 'destination.txt' successfully.\n"
     ]
    }
   ],
   "source": [
    "def copy_file(source_path, destination_path):\n",
    "    try:\n",
    "\n",
    "        with open(source_path, 'rb') as source_file:\n",
    "           \n",
    "            with open(destination_path, 'wb') as destination_file:\n",
    "                while True:\n",
    "                    \n",
    "                    data = source_file.read(50)\n",
    "                   \n",
    "                    if not data:\n",
    "                        break\n",
    "                 \n",
    "                    destination_file.write(data)\n",
    "        print(f\"File '{source_path}' copied to '{destination_path}' successfully.\")\n",
    "    except FileNotFoundError:\n",
    "        print(\"File not found.\")\n",
    "    except Exception as e:\n",
    "        print(f\"An error occurred: {str(e)}\")\n",
    "\n",
    "\n",
    "source_file_path = 'source.txt' \n",
    "destination_file_path = 'destination.txt'  \n",
    "copy_file(source_file_path, destination_file_path)"
   ]
  },
  {
   "cell_type": "markdown",
   "id": "e80714ab",
   "metadata": {},
   "source": [
    "# 2)Print all numbers present in the text file and print the number of blank spaces in that file"
   ]
  },
  {
   "cell_type": "code",
   "execution_count": 19,
   "id": "bdafdcaf",
   "metadata": {},
   "outputs": [
    {
     "name": "stdout",
     "output_type": "stream",
     "text": [
      "Numbers in the file: 11, 22, 33, 34\n",
      "Number of blank spaces in the file: 17\n"
     ]
    }
   ],
   "source": [
    "import re\n",
    "\n",
    "def extract_numbers_and_count_spaces(file_path):\n",
    "    try:\n",
    "        with open('name.txt', 'r') as file:\n",
    "            text = file.read()\n",
    "            numbers = re.findall(r'\\d+', text)\n",
    "            blank_space_count = text.count(' ')\n",
    "            \n",
    "            print(f\"Numbers in the file: {', '.join(numbers)}\")\n",
    "            print(f\"Number of blank spaces in the file: {blank_space_count}\")\n",
    "            \n",
    "    except FileNotFoundError:\n",
    "        print(\"File not found.\")\n",
    "    except Exception as e:\n",
    "        print(f\"An error occurred: {str(e)}\")\n",
    "file_path = \"input.txt\"  \n",
    "extract_numbers_and_count_spaces(file_path)"
   ]
  },
  {
   "cell_type": "markdown",
   "id": "7a84a213",
   "metadata": {},
   "source": [
    "# 3)Write a function called sed that takes as arguments a pattern string, a replacement string, and two filenames; it should read the first file and write the contents into the second file (creating it if necessary). If the pattern string appears anywhere in the file, it should be replaced with the replacement string. If an error occurs while opening, reading, writing, or closing files, your program should catch the exception, print an error message, and exit."
   ]
  },
  {
   "cell_type": "code",
   "execution_count": 40,
   "id": "f677cf69",
   "metadata": {},
   "outputs": [],
   "source": [
    "def sed(pattern, replacement, input_file, output_file):\n",
    "    try:\n",
    "        with open(input_file, 'r') as infile:\n",
    "            content = infile.read()\n",
    "        \n",
    "        content = content.replace(pattern, replacement)\n",
    "\n",
    "        with open(output_file, 'w') as outfile:\n",
    "            outfile.write(content)\n",
    "    \n",
    "    except FileNotFoundError:\n",
    "        print(f\"Error: One of the files ({input_file}, {output_file}) not found.\")\n",
    "    except Exception as e:\n",
    "        print(f\"Error: An unexpected error occurred - {str(e)}\")\n",
    "pattern = \"old_string\"\n",
    "replacement = \"new_string\"\n",
    "input_file = \"input.txt\"\n",
    "output_file = \"output.txt\"\n",
    "sed(pattern, replacement, input_file, output_file)"
   ]
  },
  {
   "cell_type": "markdown",
   "id": "c5a62483",
   "metadata": {},
   "source": [
    "# 4)Log File Analysis: You have a log file containing records of user activities on a website. Each line in the file represents a log entry with details like timestamp, user ID, and action performed. Your task is to analyze this log file.\n",
    "a. Write Python code to read the log file and extract specific information, such as the number of unique users or the most common action.\n",
    "b. How would you handle large log files efficiently without loading the entire file into memory?"
   ]
  },
  {
   "cell_type": "code",
   "execution_count": 6,
   "id": "8af1352d",
   "metadata": {},
   "outputs": [
    {
     "ename": "SyntaxError",
     "evalue": "invalid syntax (2989851193.py, line 1)",
     "output_type": "error",
     "traceback": [
      "\u001b[1;36m  Cell \u001b[1;32mIn[6], line 1\u001b[1;36m\u001b[0m\n\u001b[1;33m    Function to parse a log file and extract relevant information\u001b[0m\n\u001b[1;37m             ^\u001b[0m\n\u001b[1;31mSyntaxError\u001b[0m\u001b[1;31m:\u001b[0m invalid syntax\n"
     ]
    }
   ],
   "source": [
    "Function to parse a log file and extract relevant information \n",
    "def parse_log_file(log_file_path):\n",
    "    # Create a dictionary to store log entries by date \n",
    "    log_entries_by_date = {}\n",
    "\n",
    "    with open(log_file_path, 'r') as log_file: \n",
    "        for line in log_file:\n",
    "\n",
    "            # Split each line into timestamp and message \n",
    "            parts = line.strip().split('', 1)\n",
    "            if len(parts) == 2: \n",
    "                timestamp, message = parts\n",
    "\n",
    "                date = timestamp[:10] # Extract the date portion \n",
    "                if date in log_entries_by_date:\n",
    "                    log_entries_by_date[date].append(message) \n",
    "                else: log_entries_by_date[date] = [message]\n",
    "\n",
    "    return log_entries_by_date\n",
    "\n",
    "# Function to analyze Log data (you can customize this based on your needs) \n",
    "def analyze_log_data(log_entries_by_date):\n",
    "\n",
    "     for date, entries in log_entries_by_date.items(): \n",
    "            print(f\"Date: {date}\")\n",
    "\n",
    "            print(f\"Total Entries: (len(entries)}\") \n",
    "            print(\"Sample Entries:\")\n",
    "\n",
    "            for i, entry in enumerate (entries [:5], start=1): \n",
    "                print(f\"{i}. (entry}\") \n",
    "                print(\"------\")\n",
    "                \n",
    "                "
   ]
  },
  {
   "cell_type": "code",
   "execution_count": 7,
   "id": "ce55dff5",
   "metadata": {},
   "outputs": [
    {
     "ename": "SyntaxError",
     "evalue": "invalid syntax. Maybe you meant '==' or ':=' instead of '='? (4222633780.py, line 1)",
     "output_type": "error",
     "traceback": [
      "\u001b[1;36m  Cell \u001b[1;32mIn[7], line 1\u001b[1;36m\u001b[0m\n\u001b[1;33m    if __name__=\"__main__\":\u001b[0m\n\u001b[1;37m       ^\u001b[0m\n\u001b[1;31mSyntaxError\u001b[0m\u001b[1;31m:\u001b[0m invalid syntax. Maybe you meant '==' or ':=' instead of '='?\n"
     ]
    }
   ],
   "source": [
    "if __name__=\"__main__\":\n",
    "    log_file path = 'hema.log'# Replace with the path to your log file \n",
    "    log_entries_by_date = parse_log_file(log_file_path) \n",
    "    analyze_log_data(log_entries_by_date)"
   ]
  },
  {
   "cell_type": "markdown",
   "id": "f65ec9bf",
   "metadata": {},
   "source": [
    "# 5Text File Search and Replace: You have a text file with a large amount of text, and you want to search for specific words or phrases and replace them with new content."
   ]
  },
  {
   "cell_type": "code",
   "execution_count": 45,
   "id": "7cc62fa2",
   "metadata": {},
   "outputs": [
    {
     "name": "stdout",
     "output_type": "stream",
     "text": [
      "Search and replace completed.\n"
     ]
    }
   ],
   "source": [
    "#a)Write Python code to search for and replace text within a text file.\n",
    "\n",
    "text_file_path = \"destination.txt\"\n",
    "search_string = \"LMIA\"\n",
    "replace_string = \"AIML\"\n",
    "with open(text_file_path, 'r') as file:\n",
    "    file_content = file.read()\n",
    "modified_content = file_content.replace(search_string, replace_string)\n",
    "with open(text_file_path, 'w') as file:\n",
    "    file.write(modified_content)\n",
    "    \n",
    "print(\"Search and replace completed.\")"
   ]
  },
  {
   "cell_type": "code",
   "execution_count": 42,
   "id": "34caab92",
   "metadata": {},
   "outputs": [
    {
     "name": "stdout",
     "output_type": "stream",
     "text": [
      "Multiple search and replace completed.\n"
     ]
    }
   ],
   "source": [
    "#b)How would you handle cases where you need to perform multiple replacements in a single pass?\n",
    "text_file_path = \"source.txt\"\n",
    "replacement_dict = {\n",
    "    \"old_text1\": \"Artificial Intelligence\",\n",
    "    \"old_text2\": \"LMIA\",\n",
    "}\n",
    "try:\n",
    "    with open(text_file_path, 'r') as file:\n",
    "        file_content = file.read()\n",
    "    for search, replace in replacement_dict.items():\n",
    "        file_content = file_content.replace(search, replace)\n",
    "    with open(text_file_path, 'w') as file:\n",
    "        file.write(file_content)\n",
    "\n",
    "    print(\"Multiple search and replace completed.\")\n",
    "except FileNotFoundError:\n",
    "    print(f\"Text file '{text_file_path}' not found.\")\n",
    "except Exception as e:\n",
    "    print(\"An error occurred:\", str(e))"
   ]
  },
  {
   "cell_type": "markdown",
   "id": "b4d2e616",
   "metadata": {},
   "source": [
    "# 6)Write a Python script that concatenates the contents of multiple text files into a single output file. Allow the user to specify the input files and the output file."
   ]
  },
  {
   "cell_type": "code",
   "execution_count": 19,
   "id": "d0e9299d",
   "metadata": {},
   "outputs": [
    {
     "name": "stdout",
     "output_type": "stream",
     "text": [
      "Enter the path of an input text file (leave empty to finish): \n",
      "No input files specified. Exiting.\n"
     ]
    }
   ],
   "source": [
    "def concatenate_text_files(input_files, output_file):\n",
    "    try:\n",
    "        concatenated_content = \"\"\n",
    "        for file_path in input_files:\n",
    "            with open(file_path, 'r') as file:\n",
    "                file_content = file.read()\n",
    "                concatenated_content += file_content\n",
    "        with open(output_file, 'w') as output:\n",
    "            output.write(concatenated_content)\n",
    "\n",
    "        print(\"Concatenation complete. Output written to\", output_file)\n",
    "    except Exception as e:\n",
    "        print(\"An error occurred:\", str(e))\n",
    "input_files = []\n",
    "while True:\n",
    "    file_path = input(\"Enter the path of an input text file (leave empty to finish): \")\n",
    "    if not file_path:\n",
    "        break\n",
    "    input_files.append(file_path)\n",
    "\n",
    "if not input_files:\n",
    "    print(\"No input files specified. Exiting.\")\n",
    "else:\n",
    "    output_file = input(\"Enter the path of the output text file: \")\n",
    "    concatenate_text_files(input_files, output_file)"
   ]
  },
  {
   "cell_type": "markdown",
   "id": "9b9b7394",
   "metadata": {},
   "source": [
    "# 7)You are given a text file named input.txt containing a list of words, one word per line. Your task is to create a Python program that reads the contents of input.txt, processes the words, and writes the result to an output file named output.txt.\n",
    "\n",
    "a. The program should perform the following operations:\n",
    "\n",
    "i. Read the words from input.txt.\n",
    "\n",
    "ii. For each word in the input file, calculate the length of the word and store it in a dictionary where the word is the key, and the length is the value.\n",
    "\n",
    "iii. Write the word-length dictionary to output.txt in the following format:\n",
    "    "
   ]
  },
  {
   "cell_type": "code",
   "execution_count": 41,
   "id": "52116234",
   "metadata": {},
   "outputs": [
    {
     "name": "stdout",
     "output_type": "stream",
     "text": [
      "Processing completed. Check 'output.txt' for results.\n"
     ]
    }
   ],
   "source": [
    "input_file_name = 'input.txt'\n",
    "output_file_name = 'output.txt'\n",
    "\n",
    "try:\n",
    "    with open(input_file_name, 'r') as input_file:\n",
    "        word_length_dict = {}  \n",
    "        for line in input_file:\n",
    "            word = line.strip()  \n",
    "            length = len(word)   \n",
    "            word_length_dict[word] = length\n",
    "    with open(output_file_name, 'w') as output_file:\n",
    "        for word, length in word_length_dict.items():\n",
    "            output_file.write(f\"{word}: {length}\\n\")\n",
    "\n",
    "    print(\"Processing completed. Check 'output.txt' for results.\")\n",
    "\n",
    "except FileNotFoundError:\n",
    "    print(f\"Error: {input_file_name} not found.\")\n",
    "except Exception as e:\n",
    "    print(f\"An error occurred: {str(e)}\")"
   ]
  },
  {
   "cell_type": "markdown",
   "id": "7b574a33",
   "metadata": {},
   "source": [
    "# 8)Assume that you are developing a student gradebook system for a school. The system should allow teachers to input student grades for various subjects, store the data in files, and provide students with the ability to view their grades.\n",
    "\n",
    "Design a Python program that accomplishes the following tasks:\n",
    "\n",
    "i. Teachers should be able to input grades for students in different subjects.\n",
    "\n",
    "ii. Store the student grade data in separate text files for each subject.\n",
    "\n",
    "iii. Students should be able to view their grades for each subject.\n",
    "\n",
    "iv. Implement error handling for file operations, such as file not found or permission issues."
   ]
  },
  {
   "cell_type": "code",
   "execution_count": 13,
   "id": "124d5eba",
   "metadata": {},
   "outputs": [
    {
     "name": "stdout",
     "output_type": "stream",
     "text": [
      "\n",
      "Student Gradebook System\n",
      "1. Input Grades\n",
      "2. View Grades\n",
      "3. Exit\n",
      "Enter your choice (1/2/3): 3\n",
      "Goodbye!\n"
     ]
    }
   ],
   "source": [
    "def input_grades(subject):\n",
    "    try:\n",
    "        file_name = f\"{subject}.txt\"\n",
    "        with open(file_name, \"a\") as file:\n",
    "            student_name = input(\"Enter student name: \")\n",
    "            grade = input(f\"Enter {subject} grade for {student_name}: \")\n",
    "            file.write(f\"{student_name}: {grade}\\n\")\n",
    "        print(f\"Grade for {student_name} in {subject} has been recorded.\")\n",
    "    except IOError as e:\n",
    "        print(f\"Error: {e}\")\n",
    "def view_grades(subject):\n",
    "    try:\n",
    "        file_name = f\"{subject}.txt\"\n",
    "        if not os.path.exists(file_name):\n",
    "            print(f\"No grades recorded for {subject} yet.\")\n",
    "            return\n",
    "\n",
    "        with open(file_name, \"r\") as file:\n",
    "            print(f\"Grades for {subject}:\")\n",
    "            for line in file:\n",
    "                print(line.strip())\n",
    "    except IOError as e:\n",
    "        print(f\"Error: {e}\")\n",
    "while True:\n",
    "    print(\"\\nStudent Gradebook System\")\n",
    "    print(\"1. Input Grades\")\n",
    "    print(\"2. View Grades\")\n",
    "    print(\"3. Exit\")\n",
    "\n",
    "    choice = input(\"Enter your choice (1/2/3): \")\n",
    "\n",
    "    if choice == \"1\":\n",
    "        subject = input(\"Enter the subject: \")\n",
    "        input_grades(subject)\n",
    "    elif choice == \"2\":\n",
    "        subject = input(\"Enter the subject: \")\n",
    "        view_grades(subject)\n",
    "    elif choice == \"3\":\n",
    "        break\n",
    "    else:\n",
    "        print(\"Invalid choice. Please enter 1, 2, or 3.\")\n",
    "\n",
    "print(\"Goodbye!\")"
   ]
  }
 ],
 "metadata": {
  "kernelspec": {
   "display_name": "Python 3 (ipykernel)",
   "language": "python",
   "name": "python3"
  },
  "language_info": {
   "codemirror_mode": {
    "name": "ipython",
    "version": 3
   },
   "file_extension": ".py",
   "mimetype": "text/x-python",
   "name": "python",
   "nbconvert_exporter": "python",
   "pygments_lexer": "ipython3",
   "version": "3.11.4"
  }
 },
 "nbformat": 4,
 "nbformat_minor": 5
}
