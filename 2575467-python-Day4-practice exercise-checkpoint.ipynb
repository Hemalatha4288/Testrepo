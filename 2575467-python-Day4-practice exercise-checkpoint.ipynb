{
 "cells": [
  {
   "cell_type": "markdown",
   "id": "d03d6250",
   "metadata": {},
   "source": [
    "# 1)Write a python program with Exception handling to input marks for five subjects Physics, Chemistry, Biology, Mathematics, and Computer. Calculate the percentage and grade according to the following:\n",
    "\n",
    "i)Percentage >= 90%: Grade A\n",
    "\n",
    "ii)Percentage >= 80%: Grade B\n",
    "\n",
    "iii)Percentage >= 70%: Grade C\n",
    "    \n",
    "4)Percentage >= 60%: Grade  D\n",
    "    \n",
    "v) Percentage >= 40%: Grade E\n",
    "    \n",
    "vi) Percentage < 40%: Grade F"
   ]
  },
  {
   "cell_type": "code",
   "execution_count": 6,
   "id": "e27bb917",
   "metadata": {},
   "outputs": [
    {
     "name": "stdout",
     "output_type": "stream",
     "text": [
      "Enter Physics marks: 90\n",
      "Enter Chemistry marks: 100\n",
      "Enter Biology marks: 95\n",
      "Enter Mathematics marks: 80\n",
      "Enter Computer marks: 85\n",
      "Total Marks: 450.0\n",
      "Percentage: 90.00%\n",
      "Grade: A\n"
     ]
    }
   ],
   "source": [
    "try:\n",
    "    physics = float(input(\"Enter Physics marks: \"))\n",
    "    chemistry = float(input(\"Enter Chemistry marks: \"))\n",
    "    biology = float(input(\"Enter Biology marks: \"))\n",
    "    mathematics = float(input(\"Enter Mathematics marks: \"))\n",
    "    computer = float(input(\"Enter Computer marks: \"))\n",
    "    total_marks = physics + chemistry + biology + mathematics + computer\n",
    "    percentage = (total_marks / 500) * 100\n",
    "    if percentage >= 90:\n",
    "        grade = \"A\"\n",
    "    elif percentage >= 80:\n",
    "        grade = \"B\"\n",
    "    elif percentage >= 70:\n",
    "        grade = \"C\"\n",
    "    elif percentage >= 60:\n",
    "        grade = \"D\"\n",
    "    elif percentage >= 40:\n",
    "        grade = \"E\"\n",
    "    else:\n",
    "        grade = \"F\"\n",
    "    print(f\"Total Marks: {total_marks}\")\n",
    "    print(f\"Percentage: {percentage:.2f}%\")\n",
    "    print(f\"Grade: {grade}\")\n",
    "\n",
    "except ValueError:\n",
    "    print(\"Invalid input. Please enter numeric marks for each subject.\")\n",
    "except Exception as e:\n",
    "    print(f\"An error occurred: {str(e)}\")"
   ]
  },
  {
   "cell_type": "markdown",
   "id": "8b70ff81",
   "metadata": {},
   "source": [
    "# 2)Write a python program with Exception handling to input electricity unit charges and calculate the total electricity bill according to the given condition:\n",
    "\n",
    "i) For the first 50 units Rs. 0.50/unit\n",
    "\n",
    "ii) For the next 100 units Rs. 0.75/unit\n",
    "\n",
    "For the next 100 units Rs. 1.20/unit\n",
    "\n",
    "For units above\n",
    "\n",
    "iv) 250 Rs. 1.50/unit An additional surcharge of 20% is added to the bill."
   ]
  },
  {
   "cell_type": "code",
   "execution_count": 3,
   "id": "9f02eb2e",
   "metadata": {},
   "outputs": [
    {
     "name": "stdout",
     "output_type": "stream",
     "text": [
      "Enter the electricity unit charges: 60\n",
      "Total Electricity Bill: Rs. 39.00\n"
     ]
    }
   ],
   "source": [
    "try:\n",
    "    unit_charges = float(input(\"Enter the electricity unit charges: \"))\n",
    "    total_bill = 0.0\n",
    "    surcharge = 0.0\n",
    "    if unit_charges <= 50:\n",
    "        total_bill = unit_charges * 0.50\n",
    "    else:\n",
    "        total_bill = 50 * 0.50\n",
    "        unit_charges -= 50\n",
    "        if unit_charges <= 100:\n",
    "            total_bill += unit_charges * 0.75\n",
    "        else:\n",
    "            total_bill += 100 * 0.75\n",
    "            unit_charges -= 100\n",
    "            if unit_charges <= 100:\n",
    "                total_bill += unit_charges * 1.20\n",
    "            else:\n",
    "                total_bill += 100 * 1.20\n",
    "                unit_charges -= 100\n",
    "                total_bill += unit_charges * 1.50\n",
    "    surcharge = 0.20 * total_bill\n",
    "    total_bill += surcharge\n",
    "\n",
    "    print(f\"Total Electricity Bill: Rs. {total_bill:.2f}\")\n",
    "\n",
    "except ValueError:\n",
    "    print(\"Invalid input. Please enter a valid number for unit charges.\")\n",
    "except Exception as e:\n",
    "    print(f\"An error occurred: {e}\")"
   ]
  },
  {
   "cell_type": "markdown",
   "id": "2665f358",
   "metadata": {},
   "source": [
    "# 3)Write a python program with Exception handling to input the week number and print the weekday."
   ]
  },
  {
   "cell_type": "code",
   "execution_count": 4,
   "id": "ca0994cd",
   "metadata": {},
   "outputs": [
    {
     "name": "stdout",
     "output_type": "stream",
     "text": [
      "Enter a week number (1-7): 4\n",
      "Weekday 4 is Thursday.\n"
     ]
    }
   ],
   "source": [
    "try:\n",
    "    week_number = int(input(\"Enter a week number (1-7): \"))\n",
    "    weekdays = [\"Monday\", \"Tuesday\", \"Wednesday\", \"Thursday\", \"Friday\", \"Saturday\", \"Sunday\"]\n",
    "    if 1 <= week_number <= 7:\n",
    "        print(f\"Weekday {week_number} is {weekdays[week_number - 1]}.\")\n",
    "    else:\n",
    "        print(\"Invalid week number. Please enter a number between 1 and 7.\")\n",
    "except ValueError:\n",
    "    print(\"Invalid input. Please enter a valid week number as a whole number.\")\n",
    "except Exception as e:\n",
    "    print(f\"An error occurred: {e}\")"
   ]
  },
  {
   "cell_type": "markdown",
   "id": "c8c2702b",
   "metadata": {},
   "source": [
    "# 4)Write a Python program to implement word count using command line arguments.\n",
    "\n",
    "i) ii) Create a text document \"apple.txt\" whch contains text for wordcount Create a wordcount program which calls the \"apple.txt\" document by opening the file.\n",
    "\n",
    "If the word is present again in the \"aaple.txt\", the wordcount is incremented by 1 until all the words are counted in the document.\n",
    "\n",
    "iv) Close the file.\n",
    "\n",
    "v) Create a command.py program which imports the wordcount.py program.\n",
    "\n",
    "vi)Count the number of words using command line arguments.\n",
    "\n",
    "vii) Print each word and its count"
   ]
  },
  {
   "cell_type": "code",
   "execution_count": 1,
   "id": "2e6b1a75",
   "metadata": {},
   "outputs": [
    {
     "name": "stdout",
     "output_type": "stream",
     "text": [
      "Usage: python word_count.py <file_name>\n"
     ]
    }
   ],
   "source": [
    "import sys\n",
    "\n",
    "def word_count(file_name):\n",
    "    try:\n",
    "        # Open the file in read mode\n",
    "        with open(file_name, 'r') as file:\n",
    "            text = file.read()\n",
    "\n",
    "            # Split the text into words using whitespace as a delimiter\n",
    "            words = text.split()\n",
    "\n",
    "            # Initialize a dictionary to store word counts\n",
    "            word_counts = {}\n",
    "\n",
    "            # Count the occurrence of each word\n",
    "            for word in words:\n",
    "                word = word.lower()  # Convert to lowercase to count words case-insensitively\n",
    "                if word in word_counts:\n",
    "                    word_counts[word] += 1\n",
    "                else:\n",
    "                    word_counts[word] = 1\n",
    "\n",
    "            return word_counts\n",
    "\n",
    "    except FileNotFoundError:\n",
    "        print(f\"Error: {file_name} not found.\")\n",
    "        return {}\n",
    "    except Exception as e:\n",
    "        print(f\"An error occurred: {e}\")\n",
    "        return {}\n",
    "\n",
    "if __name__ == \"__main__\":\n",
    "    if len(sys.argv) != 2:\n",
    "        print(\"Usage: python word_count.py <file_name>\")\n",
    "    else:\n",
    "        file_name = sys.argv[1]\n",
    "        word_counts = word_count(file_name)\n",
    "\n",
    "        for word, count in word_counts.items():\n",
    "            print(f\"{word}: {count}\")"
   ]
  },
  {
   "cell_type": "markdown",
   "id": "c0303e38",
   "metadata": {},
   "source": [
    "# 5)Write a Python program for finding the most frequent words in a text read from a file.\n",
    "\n",
    "i) Initially open the text file in read mode.\n",
    "\n",
    "ii) Make all the letters in the document into lowercase letters and split the words in each line.\n",
    "\n",
    "iii) Get the words in an order.\n",
    "\n",
    "iv) Sort the words for finding the most frequent words in the file.\n",
    "\n",
    "5) Print the most frequent words in the file"
   ]
  },
  {
   "cell_type": "code",
   "execution_count": 2,
   "id": "c8a23870",
   "metadata": {},
   "outputs": [
    {
     "name": "stdout",
     "output_type": "stream",
     "text": [
      "Most frequent words in the file:\n",
      "and: 4\n",
      "is: 3\n",
      "the: 3\n",
      "mother: 2\n",
      "of: 2\n"
     ]
    }
   ],
   "source": [
    "from collections import Counter\n",
    "file_name = \"counter.txt\"\n",
    "\n",
    "try:\n",
    "    with open(file_name, 'r', encoding='utf-8') as file:\n",
    "        words = []\n",
    "        for line in file:\n",
    "            words.extend(line.lower().split())\n",
    "        sorted_words = sorted(words)\n",
    "        word_count = Counter(sorted_words)\n",
    "        most_common_words = word_count.most_common(5) \n",
    "        print(\"Most frequent words in the file:\")\n",
    "        for word, count in most_common_words:\n",
    "            print(f\"{word}: {count}\")\n",
    "\n",
    "except FileNotFoundError:\n",
    "    print(f\"File '{file_name}' not found.\")\n",
    "except Exception as e:\n",
    "    print(f\"An error occurred: {str(e)}\")"
   ]
  },
  {
   "cell_type": "markdown",
   "id": "553d4908",
   "metadata": {},
   "source": [
    "# 6)File Processing with Command-Line Arguments- Scenario: You are developing a command-line utility that processes text files. Users can specify input and output file paths as command-line arguments. Your program should handle exceptions gracefully.\n",
    "\n",
    "i.Design a Python program that takes two command-line arguments: the input file path and the output file path. \n",
    "\n",
    "ii.Ensure that the program checks if both arguments are provided and that the input file exists. Implement error handling to deal with scenarios such as missing input files,invalid file paths, or permission issues when writing to the output file.\n",
    "\n",
    "iii. If an error occurs during file processing, display a user-friendly error message, and exit the program with a non-zero exit code\n",
    "\n",
    "iv. Write test cases that cover various scenarios, including providing valid and invalid file paths as command-line arguments."
   ]
  },
  {
   "cell_type": "code",
   "execution_count": null,
   "id": "5c48f210",
   "metadata": {},
   "outputs": [],
   "source": [
    "import sys\n",
    "import os\n",
    "\n",
    "def process_files(input_file_path, output_file_path):\n",
    "    try:\n",
    "        if not input_file_path or not output_file_path:\n",
    "            raise ValueError(\"Both input and output file paths are required.\")\n",
    "        if not os.path.exists(input_file_path):\n",
    "            raise FileNotFoundError(f\"Input file '{input_file_path}' does not exist.\")\n",
    "        with open(input_file_path, 'r') as input_file, open(output_file_path, 'w') as output_file:\n",
    "            for line in input_file:\n",
    "                output_file.write(line)\n",
    "\n",
    "        print(\"File processing completed successfully.\")\n",
    "    except ValueError as ve:\n",
    "        print(f\"Error: {ve}\")\n",
    "        sys.exit(1)\n",
    "    except FileNotFoundError as fnfe:\n",
    "        print(f\"Error: {fnfe}\")\n",
    "        sys.exit(1)\n",
    "    except Exception as e:\n",
    "        print(f\"An unexpected error occurred: {e}\")\n",
    "        sys.exit(1)\n",
    "\n",
    "if _name_ == \"__main__\":\n",
    "    if len(sys.argv) != 3:\n",
    "        print(\"Usage: python program.py input_file output_file\")\n",
    "        sys.exit(1)\n",
    "\n",
    "    input_file_path = sys.argv[1]\n",
    "    output_file_path = sys.argv[2]\n",
    "\n",
    "    process_files(input_file_path, output_file_path)"
   ]
  }
 ],
 "metadata": {
  "kernelspec": {
   "display_name": "Python 3 (ipykernel)",
   "language": "python",
   "name": "python3"
  },
  "language_info": {
   "codemirror_mode": {
    "name": "ipython",
    "version": 3
   },
   "file_extension": ".py",
   "mimetype": "text/x-python",
   "name": "python",
   "nbconvert_exporter": "python",
   "pygments_lexer": "ipython3",
   "version": "3.11.4"
  }
 },
 "nbformat": 4,
 "nbformat_minor": 5
}
