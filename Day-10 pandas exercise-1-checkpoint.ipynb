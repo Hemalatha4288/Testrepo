{
 "cells": [
  {
   "cell_type": "code",
   "execution_count": 9,
   "id": "03339644",
   "metadata": {},
   "outputs": [
    {
     "data": {
      "text/html": [
       "<div>\n",
       "<style scoped>\n",
       "    .dataframe tbody tr th:only-of-type {\n",
       "        vertical-align: middle;\n",
       "    }\n",
       "\n",
       "    .dataframe tbody tr th {\n",
       "        vertical-align: top;\n",
       "    }\n",
       "\n",
       "    .dataframe thead th {\n",
       "        text-align: right;\n",
       "    }\n",
       "</style>\n",
       "<table border=\"1\" class=\"dataframe\">\n",
       "  <thead>\n",
       "    <tr style=\"text-align: right;\">\n",
       "      <th></th>\n",
       "      <th>title</th>\n",
       "      <th>year</th>\n",
       "    </tr>\n",
       "  </thead>\n",
       "  <tbody>\n",
       "    <tr>\n",
       "      <th>0</th>\n",
       "      <td>Tasveer Mere Sanam</td>\n",
       "      <td>1996</td>\n",
       "    </tr>\n",
       "    <tr>\n",
       "      <th>1</th>\n",
       "      <td>Only You</td>\n",
       "      <td>1994</td>\n",
       "    </tr>\n",
       "    <tr>\n",
       "      <th>2</th>\n",
       "      <td>El pueblo del terror</td>\n",
       "      <td>1970</td>\n",
       "    </tr>\n",
       "    <tr>\n",
       "      <th>3</th>\n",
       "      <td>Machine</td>\n",
       "      <td>2007</td>\n",
       "    </tr>\n",
       "    <tr>\n",
       "      <th>4</th>\n",
       "      <td>MARy</td>\n",
       "      <td>2008</td>\n",
       "    </tr>\n",
       "  </tbody>\n",
       "</table>\n",
       "</div>"
      ],
      "text/plain": [
       "                  title  year\n",
       "0    Tasveer Mere Sanam  1996\n",
       "1              Only You  1994\n",
       "2  El pueblo del terror  1970\n",
       "3               Machine  2007\n",
       "4                  MARy  2008"
      ]
     },
     "execution_count": 9,
     "metadata": {},
     "output_type": "execute_result"
    }
   ],
   "source": [
    "from IPython.core.display import HTML\n",
    "import pandas as pd\n",
    "titles=pd.read_csv('titles.csv')\n",
    "titles.head()"
   ]
  },
  {
   "cell_type": "markdown",
   "id": "0d48d624",
   "metadata": {},
   "source": [
    "# 1.how many movies are listed in the titles dataframe in python\n",
    "pandas"
   ]
  },
  {
   "cell_type": "code",
   "execution_count": 10,
   "id": "8a34d1de",
   "metadata": {},
   "outputs": [
    {
     "name": "stdout",
     "output_type": "stream",
     "text": [
      "Number of movies: 244914\n"
     ]
    }
   ],
   "source": [
    "import pandas as pd\n",
    "number_of_movies = titles.shape[0]\n",
    "print(\"Number of movies:\",number_of_movies)"
   ]
  },
  {
   "cell_type": "markdown",
   "id": "7a5b2f19",
   "metadata": {},
   "source": [
    "# 2)What are the earliest two films listed in the titles dataframe"
   ]
  },
  {
   "cell_type": "code",
   "execution_count": 16,
   "id": "407d36af",
   "metadata": {},
   "outputs": [
    {
     "name": "stdout",
     "output_type": "stream",
     "text": [
      "The earliest two films:\n",
      "                     title  year\n",
      "193222          Miss Jerry  1894\n",
      "51388   The Startled Lover  1898\n"
     ]
    }
   ],
   "source": [
    "import pandas as pd\n",
    "sorted_titles = titles.sort_values(by='year')\n",
    "earliest_two_films = sorted_titles.head(2)\n",
    "print(\"The earliest two films:\")\n",
    "print(earliest_two_films)"
   ]
  },
  {
   "cell_type": "markdown",
   "id": "488b340e",
   "metadata": {},
   "source": [
    "# 3)how many movies have the tittle hamlet"
   ]
  },
  {
   "cell_type": "code",
   "execution_count": 17,
   "id": "2601040d",
   "metadata": {},
   "outputs": [
    {
     "name": "stdout",
     "output_type": "stream",
     "text": [
      "Number of movies with the title 'Hamlet': 20\n"
     ]
    }
   ],
   "source": [
    "import pandas as pd\n",
    "hamlet_movies = titles[titles['title'] == 'Hamlet']\n",
    "number_of_hamlet_movies = hamlet_movies.shape[0]\n",
    "print(\"Number of movies with the title 'Hamlet':\", number_of_hamlet_movies)"
   ]
  },
  {
   "cell_type": "markdown",
   "id": "b8fe6a2e",
   "metadata": {},
   "source": [
    "# 4)how many movies are titled north by northwest"
   ]
  },
  {
   "cell_type": "code",
   "execution_count": 20,
   "id": "00c17c5d",
   "metadata": {},
   "outputs": [
    {
     "name": "stdout",
     "output_type": "stream",
     "text": [
      "Number of movies titled 'North by Northwest': 1\n"
     ]
    }
   ],
   "source": [
    "import pandas as pd\n",
    "north_by_northwest_movies = titles[titles['title'] == 'North by Northwest']\n",
    "number_of_north_by_northwest_movies = north_by_northwest_movies.shape[0]\n",
    "print(\"Number of movies titled 'North by Northwest':\",\n",
    "number_of_north_by_northwest_movies)"
   ]
  },
  {
   "cell_type": "markdown",
   "id": "5859030b",
   "metadata": {},
   "source": [
    "# 5)what was the first movie titled hamlet made"
   ]
  },
  {
   "cell_type": "code",
   "execution_count": 21,
   "id": "67444880",
   "metadata": {},
   "outputs": [
    {
     "name": "stdout",
     "output_type": "stream",
     "text": [
      "year       1910\n",
      "title    Hamlet\n",
      "Name: 52521, dtype: object\n"
     ]
    }
   ],
   "source": [
    "import pandas as pd\n",
    "hamlet_movies = titles[titles['title'] == 'Hamlet']\n",
    "sorted_hamlet_movies = hamlet_movies.sort_values(by='year')\n",
    "first_hamlet_movie = sorted_hamlet_movies.iloc[0]\n",
    "print(first_hamlet_movie[['year', 'title']])"
   ]
  },
  {
   "cell_type": "markdown",
   "id": "af9ebc98",
   "metadata": {},
   "source": [
    "# 6)List all of the “Treasure Island” movies from earliest to most recent"
   ]
  },
  {
   "cell_type": "code",
   "execution_count": 22,
   "id": "09f552ce",
   "metadata": {},
   "outputs": [
    {
     "name": "stdout",
     "output_type": "stream",
     "text": [
      "List of 'Treasure Island' movies from earliest to most recent:\n",
      "        year            title\n",
      "55686   1918  Treasure Island\n",
      "196514  1920  Treasure Island\n",
      "141822  1934  Treasure Island\n",
      "77354   1950  Treasure Island\n",
      "65051   1972  Treasure Island\n",
      "37238   1973  Treasure Island\n",
      "173051  1985  Treasure Island\n",
      "27076   1999  Treasure Island\n"
     ]
    }
   ],
   "source": [
    "import pandas as pd\n",
    "treasure_island_movies = titles[titles['title'] == 'Treasure Island']\n",
    "sorted_treasure_island_movies = treasure_island_movies.sort_values(by='year')\n",
    "print(\"List of 'Treasure Island' movies from earliest to most recent:\")\n",
    "print(sorted_treasure_island_movies[['year', 'title']])"
   ]
  },
  {
   "cell_type": "markdown",
   "id": "2d2d4dcf",
   "metadata": {},
   "source": [
    "# 7) How many movies were made in the year 1950?"
   ]
  },
  {
   "cell_type": "code",
   "execution_count": 23,
   "id": "9a510d6e",
   "metadata": {},
   "outputs": [
    {
     "name": "stdout",
     "output_type": "stream",
     "text": [
      "Number of movies made in the year 1950: 1113\n"
     ]
    }
   ],
   "source": [
    "import pandas as pd\n",
    "movies_1950 = titles[titles['year'] == 1950]\n",
    "number_of_movies_1950 = movies_1950.shape[0]\n",
    "print(\"Number of movies made in the year 1950:\", number_of_movies_1950)"
   ]
  },
  {
   "cell_type": "markdown",
   "id": "c09df2c2",
   "metadata": {},
   "source": [
    "# 8)How many movies were made in the year 1960?"
   ]
  },
  {
   "cell_type": "code",
   "execution_count": 24,
   "id": "d3b81d16",
   "metadata": {},
   "outputs": [
    {
     "name": "stdout",
     "output_type": "stream",
     "text": [
      "Number of movies made in the year 1960: 1549\n"
     ]
    }
   ],
   "source": [
    "import pandas as pd\n",
    "movies_1960 = titles[titles['year'] == 1960]\n",
    "number_of_movies_1960 = movies_1960.shape[0]\n",
    "print(\"Number of movies made in the year 1960:\", number_of_movies_1960)"
   ]
  },
  {
   "cell_type": "markdown",
   "id": "9bf05706",
   "metadata": {},
   "source": [
    "# 9)How many movies were made from 1950 through 1959?"
   ]
  },
  {
   "cell_type": "code",
   "execution_count": 25,
   "id": "c0fd28fa",
   "metadata": {},
   "outputs": [
    {
     "name": "stdout",
     "output_type": "stream",
     "text": [
      "Number of movies made from 1950 to 1959: 12934\n"
     ]
    }
   ],
   "source": [
    "import pandas as pd\n",
    "movies_1950s = titles[(titles['year'] >= 1950) & (titles['year'] <= 1959)]\n",
    "number_of_movies_1950s = movies_1950s.shape[0]\n",
    "print(\"Number of movies made from 1950 to 1959:\", number_of_movies_1950s)"
   ]
  },
  {
   "cell_type": "markdown",
   "id": "2be1cbd5",
   "metadata": {},
   "source": [
    "# 10)In what years has a movie titled “Batman” been released?"
   ]
  },
  {
   "cell_type": "code",
   "execution_count": 29,
   "id": "c668b41a",
   "metadata": {},
   "outputs": [
    {
     "name": "stdout",
     "output_type": "stream",
     "text": [
      "Years in which a movie titled 'Batman' has been released:\n",
      "[1943 1989]\n"
     ]
    }
   ],
   "source": [
    "import pandas as pd\n",
    "batman_movies = titles[titles['title'] == 'Batman']\n",
    "years_with_batman_movies = batman_movies['year'].unique()\n",
    "print(\"Years in which a movie titled 'Batman' has been released:\")\n",
    "print(years_with_batman_movies)\n"
   ]
  },
  {
   "cell_type": "code",
   "execution_count": 28,
   "id": "4eea4d59",
   "metadata": {},
   "outputs": [],
   "source": [
    "cast=pd.read_csv('cast.csv')"
   ]
  },
  {
   "cell_type": "code",
   "execution_count": 30,
   "id": "63ef91e9",
   "metadata": {},
   "outputs": [
    {
     "data": {
      "text/html": [
       "<div>\n",
       "<style scoped>\n",
       "    .dataframe tbody tr th:only-of-type {\n",
       "        vertical-align: middle;\n",
       "    }\n",
       "\n",
       "    .dataframe tbody tr th {\n",
       "        vertical-align: top;\n",
       "    }\n",
       "\n",
       "    .dataframe thead th {\n",
       "        text-align: right;\n",
       "    }\n",
       "</style>\n",
       "<table border=\"1\" class=\"dataframe\">\n",
       "  <thead>\n",
       "    <tr style=\"text-align: right;\">\n",
       "      <th></th>\n",
       "      <th>title</th>\n",
       "      <th>year</th>\n",
       "      <th>name</th>\n",
       "      <th>type</th>\n",
       "      <th>character</th>\n",
       "      <th>n</th>\n",
       "    </tr>\n",
       "  </thead>\n",
       "  <tbody>\n",
       "    <tr>\n",
       "      <th>0</th>\n",
       "      <td>Closet Monster</td>\n",
       "      <td>2015</td>\n",
       "      <td>Buffy #1</td>\n",
       "      <td>actor</td>\n",
       "      <td>Buffy 4</td>\n",
       "      <td>31.0</td>\n",
       "    </tr>\n",
       "    <tr>\n",
       "      <th>1</th>\n",
       "      <td>Suuri illusioni</td>\n",
       "      <td>1985</td>\n",
       "      <td>Homo $</td>\n",
       "      <td>actor</td>\n",
       "      <td>Guests</td>\n",
       "      <td>22.0</td>\n",
       "    </tr>\n",
       "    <tr>\n",
       "      <th>2</th>\n",
       "      <td>Battle of the Sexes</td>\n",
       "      <td>2017</td>\n",
       "      <td>$hutter</td>\n",
       "      <td>actor</td>\n",
       "      <td>Bobby Riggs Fan</td>\n",
       "      <td>10.0</td>\n",
       "    </tr>\n",
       "    <tr>\n",
       "      <th>3</th>\n",
       "      <td>Secret in Their Eyes</td>\n",
       "      <td>2015</td>\n",
       "      <td>$hutter</td>\n",
       "      <td>actor</td>\n",
       "      <td>2002 Dodger Fan</td>\n",
       "      <td>NaN</td>\n",
       "    </tr>\n",
       "    <tr>\n",
       "      <th>4</th>\n",
       "      <td>Steve Jobs</td>\n",
       "      <td>2015</td>\n",
       "      <td>$hutter</td>\n",
       "      <td>actor</td>\n",
       "      <td>1988 Opera House Patron</td>\n",
       "      <td>NaN</td>\n",
       "    </tr>\n",
       "  </tbody>\n",
       "</table>\n",
       "</div>"
      ],
      "text/plain": [
       "                  title  year      name   type                character     n\n",
       "0        Closet Monster  2015  Buffy #1  actor                  Buffy 4  31.0\n",
       "1       Suuri illusioni  1985    Homo $  actor                   Guests  22.0\n",
       "2   Battle of the Sexes  2017   $hutter  actor          Bobby Riggs Fan  10.0\n",
       "3  Secret in Their Eyes  2015   $hutter  actor          2002 Dodger Fan   NaN\n",
       "4            Steve Jobs  2015   $hutter  actor  1988 Opera House Patron   NaN"
      ]
     },
     "execution_count": 30,
     "metadata": {},
     "output_type": "execute_result"
    }
   ],
   "source": [
    "cast.head()"
   ]
  },
  {
   "cell_type": "markdown",
   "id": "5acf6a54",
   "metadata": {},
   "source": [
    "# 11)How many roles were there in the movie “Inception”?"
   ]
  },
  {
   "cell_type": "code",
   "execution_count": 31,
   "id": "6337590b",
   "metadata": {},
   "outputs": [
    {
     "name": "stdout",
     "output_type": "stream",
     "text": [
      "Number of roles in the movie 'Inception': 56\n"
     ]
    }
   ],
   "source": [
    "import pandas as pd\n",
    "inception_cast = cast[cast['title'] == 'Inception']\n",
    "number_of_roles_in_inception = len(inception_cast['character'].unique())\n",
    "print(\"Number of roles in the movie 'Inception':\", number_of_roles_in_inception)"
   ]
  },
  {
   "cell_type": "markdown",
   "id": "81ad186e",
   "metadata": {},
   "source": [
    "# 12)How many roles in the movie “Inception” are NOT ranked by an “n” value?"
   ]
  },
  {
   "cell_type": "code",
   "execution_count": 33,
   "id": "459283bd",
   "metadata": {},
   "outputs": [
    {
     "name": "stdout",
     "output_type": "stream",
     "text": [
      "Number of roles in the movie 'Inception' without an 'n' value: 27\n"
     ]
    }
   ],
   "source": [
    "import pandas as pd\n",
    "import numpy as np\n",
    "inception_cast = cast[(cast['title'] == 'Inception') & (cast['n'].isna())]\n",
    "number_of_roles_in_inception_without_n_value = len(inception_cast)\n",
    "print(\"Number of roles in the movie 'Inception' without an 'n' value:\",\n",
    "number_of_roles_in_inception_without_n_value)"
   ]
  },
  {
   "cell_type": "markdown",
   "id": "fde51bf0",
   "metadata": {},
   "source": [
    "# 13)But how many roles in the movie “Inception” did receive an “n” value?"
   ]
  },
  {
   "cell_type": "code",
   "execution_count": 34,
   "id": "634626f5",
   "metadata": {},
   "outputs": [
    {
     "name": "stdout",
     "output_type": "stream",
     "text": [
      "Number of roles in the movie 'Inception' with an 'n' value: 51\n"
     ]
    }
   ],
   "source": [
    "import pandas as pd\n",
    "inception_cast_with_n = cast[(cast['title'] == 'Inception') & (~cast['n'].\n",
    "isna())]\n",
    "number_of_roles_in_inception_with_n_value = len(inception_cast_with_n)\n",
    "print(\"Number of roles in the movie 'Inception' with an 'n' value:\",\n",
    "number_of_roles_in_inception_with_n_value)\n"
   ]
  },
  {
   "cell_type": "markdown",
   "id": "206cd630",
   "metadata": {},
   "source": [
    "# 14)Display the cast of “North by Northwest” in their correct “n” -value order, ignoring roles that did not earn a numeric “n” value"
   ]
  },
  {
   "cell_type": "code",
   "execution_count": 35,
   "id": "554267fc",
   "metadata": {},
   "outputs": [
    {
     "name": "stdout",
     "output_type": "stream",
     "text": [
      "            n                  name\n",
      "871426    1.0            Cary Grant\n",
      "3518333   2.0       Eva Marie Saint\n",
      "1457165   3.0           James Mason\n",
      "3157232   4.0   Jessie Royce Landis\n",
      "356707    5.0        Leo G. Carroll\n",
      "3048272   6.0  Josephine Hutchinson\n",
      "1695173   7.0           Philip Ober\n",
      "1275337   8.0         Martin Landau\n",
      "2447081   9.0         Adam Williams\n",
      "1811387  10.0          Edward Platt\n",
      "665768   11.0     Robert Ellenstein\n",
      "2295714  12.0          Les Tremayne\n",
      "464736   13.0       Philip Coolidge\n",
      "1508344  14.0         Patrick McVey\n",
      "206471   15.0          Edward Binns\n",
      "1384780  16.0             Ken Lynch\n"
     ]
    },
    {
     "name": "stderr",
     "output_type": "stream",
     "text": [
      "C:\\Users\\YR HEMALATHA\\AppData\\Local\\Temp\\ipykernel_4412\\438703188.py:4: SettingWithCopyWarning: \n",
      "A value is trying to be set on a copy of a slice from a DataFrame.\n",
      "Try using .loc[row_indexer,col_indexer] = value instead\n",
      "\n",
      "See the caveats in the documentation: https://pandas.pydata.org/pandas-docs/stable/user_guide/indexing.html#returning-a-view-versus-a-copy\n",
      "  north_by_northwest_cast['n'] = pd.to_numeric(north_by_northwest_cast['n'])\n"
     ]
    }
   ],
   "source": [
    "import pandas as pd\n",
    "north_by_northwest_cast = cast[(cast['title'] == 'North by Northwest') &\n",
    "(cast['n'].notna())]\n",
    "north_by_northwest_cast['n'] = pd.to_numeric(north_by_northwest_cast['n'])\n",
    "north_by_northwest_cast_sorted = north_by_northwest_cast.sort_values(by='n')\n",
    "print(north_by_northwest_cast_sorted[['n', 'name']])"
   ]
  },
  {
   "cell_type": "markdown",
   "id": "dec5572d",
   "metadata": {},
   "source": [
    "# 15)Display the entire cast, in “n”-order, of the 1972 film ”Sleuth"
   ]
  },
  {
   "cell_type": "code",
   "execution_count": 36,
   "id": "8d390ecc",
   "metadata": {},
   "outputs": [
    {
     "name": "stdout",
     "output_type": "stream",
     "text": [
      "           n                name\n",
      "326774   1.0       Michael Caine\n",
      "1705394  1.0    Laurence Olivier\n",
      "326773   2.0       Michael Caine\n",
      "1293634  2.0            Jude Law\n",
      "373876   3.0      Alec Cawthorne\n",
      "1805907  3.0       Harold Pinter\n",
      "1465483  4.0  John (II) Matthews\n",
      "2724553  5.0  Eve (III) Channing\n",
      "1448690  6.0        Teddy Martin\n"
     ]
    },
    {
     "name": "stderr",
     "output_type": "stream",
     "text": [
      "C:\\Users\\YR HEMALATHA\\AppData\\Local\\Temp\\ipykernel_4412\\2193724393.py:3: SettingWithCopyWarning: \n",
      "A value is trying to be set on a copy of a slice from a DataFrame.\n",
      "Try using .loc[row_indexer,col_indexer] = value instead\n",
      "\n",
      "See the caveats in the documentation: https://pandas.pydata.org/pandas-docs/stable/user_guide/indexing.html#returning-a-view-versus-a-copy\n",
      "  sleuth_1972_cast['n'] = pd.to_numeric(sleuth_1972_cast['n'])\n"
     ]
    }
   ],
   "source": [
    "import pandas as pd\n",
    "sleuth_1972_cast = cast[(cast['title'] == 'Sleuth') & (cast['n'].notna())]\n",
    "sleuth_1972_cast['n'] = pd.to_numeric(sleuth_1972_cast['n'])\n",
    "sleuth_1972_cast_sorted = sleuth_1972_cast.sort_values(by='n')\n",
    "print(sleuth_1972_cast_sorted[['n', 'name']])\n"
   ]
  },
  {
   "cell_type": "markdown",
   "id": "b0842a5e",
   "metadata": {},
   "source": [
    "# 16)Now display the entire cast, in “n”-order, of the 2007 version of “Sleuth”"
   ]
  },
  {
   "cell_type": "code",
   "execution_count": 37,
   "id": "921a838f",
   "metadata": {},
   "outputs": [
    {
     "name": "stdout",
     "output_type": "stream",
     "text": [
      "           n           name\n",
      "326774   1.0  Michael Caine\n",
      "1293634  2.0       Jude Law\n",
      "1805907  3.0  Harold Pinter\n"
     ]
    },
    {
     "name": "stderr",
     "output_type": "stream",
     "text": [
      "C:\\Users\\YR HEMALATHA\\AppData\\Local\\Temp\\ipykernel_4412\\2108668788.py:3: SettingWithCopyWarning: \n",
      "A value is trying to be set on a copy of a slice from a DataFrame.\n",
      "Try using .loc[row_indexer,col_indexer] = value instead\n",
      "\n",
      "See the caveats in the documentation: https://pandas.pydata.org/pandas-docs/stable/user_guide/indexing.html#returning-a-view-versus-a-copy\n",
      "  sleuth_2007_cast['n'] = pd.to_numeric(sleuth_2007_cast['n'])\n"
     ]
    }
   ],
   "source": [
    "import pandas as pd\n",
    "sleuth_2007_cast = cast[(cast['title'] == 'Sleuth') & (cast['n'].notna()) & (cast['year'] == 2007)]\n",
    "sleuth_2007_cast['n'] = pd.to_numeric(sleuth_2007_cast['n'])\n",
    "sleuth_2007_cast_sorted = sleuth_2007_cast.sort_values(by='n')\n",
    "print(sleuth_2007_cast_sorted[['n', 'name']])"
   ]
  },
  {
   "cell_type": "markdown",
   "id": "632b1656",
   "metadata": {},
   "source": [
    "# 17)How many roles were credited in the silent 1921 version of Hamlet?\n"
   ]
  },
  {
   "cell_type": "code",
   "execution_count": 38,
   "id": "b492d974",
   "metadata": {},
   "outputs": [
    {
     "name": "stdout",
     "output_type": "stream",
     "text": [
      "Number of credited roles in the silent 1921 version of 'Hamlet': 9\n"
     ]
    }
   ],
   "source": [
    "import pandas as pd\n",
    "hamlet_1921_cast = cast[(cast['title'] == 'Hamlet') & (cast['year'] == 1921)]\n",
    "number_of_roles_in_hamlet_1921 = len(hamlet_1921_cast['character'].unique())\n",
    "print(\"Number of credited roles in the silent 1921 version of 'Hamlet':\",number_of_roles_in_hamlet_1921)\n"
   ]
  },
  {
   "cell_type": "markdown",
   "id": "70bd7b58",
   "metadata": {},
   "source": [
    "# 18)How many roles were credited in Branagh’s 1996 Hamlet?"
   ]
  },
  {
   "cell_type": "code",
   "execution_count": 39,
   "id": "dc904aff",
   "metadata": {},
   "outputs": [
    {
     "name": "stdout",
     "output_type": "stream",
     "text": [
      "Number of credited roles in Branagh's 1996 version of 'Hamlet': 49\n"
     ]
    }
   ],
   "source": [
    "import pandas as pd\n",
    "branagh_hamlet_cast = cast[(cast['title'] == 'Hamlet') & (cast['year'] == 1996)]\n",
    "number_of_roles_in_branagh_hamlet = len(branagh_hamlet_cast['character'].unique())\n",
    "print(\"Number of credited roles in Branagh's 1996 version of 'Hamlet':\",number_of_roles_in_branagh_hamlet)"
   ]
  },
  {
   "cell_type": "markdown",
   "id": "18ca960a",
   "metadata": {},
   "source": [
    "# 19)How many “Hamlet” roles have been listed in all film credits through history?"
   ]
  },
  {
   "cell_type": "code",
   "execution_count": 40,
   "id": "761c90a6",
   "metadata": {},
   "outputs": [
    {
     "name": "stdout",
     "output_type": "stream",
     "text": [
      "Number of 'Hamlet' roles listed in all film credits through history: 112\n"
     ]
    }
   ],
   "source": [
    "import pandas as pd\n",
    "hamlet_roles = cast[cast['title'] == 'Hamlet']\n",
    "number_of_hamlet_roles = len(hamlet_roles['character'].unique())\n",
    "print(\"Number of 'Hamlet' roles listed in all film credits through history:\",number_of_hamlet_roles)"
   ]
  },
  {
   "cell_type": "markdown",
   "id": "53e6dd07",
   "metadata": {},
   "source": [
    "# 20)How many people have played an “Ophelia”?"
   ]
  },
  {
   "cell_type": "code",
   "execution_count": 41,
   "id": "c457d173",
   "metadata": {},
   "outputs": [
    {
     "name": "stdout",
     "output_type": "stream",
     "text": [
      "Number of people who have played the role of 'Ophelia': 115\n"
     ]
    }
   ],
   "source": [
    "import pandas as pd\n",
    "ophelia_actors = cast[cast['character'] == 'Ophelia']\n",
    "number_of_ophelia_actors = len(ophelia_actors['name'].unique())\n",
    "print(\"Number of people who have played the role of 'Ophelia':\",number_of_ophelia_actors)\n"
   ]
  },
  {
   "cell_type": "markdown",
   "id": "9684fdba",
   "metadata": {},
   "source": [
    "# 21)How many people have played a role called “The Dude”?"
   ]
  },
  {
   "cell_type": "code",
   "execution_count": 42,
   "id": "1b16ef96",
   "metadata": {},
   "outputs": [
    {
     "name": "stdout",
     "output_type": "stream",
     "text": [
      "Number of people who have played the role of 'The Dude': 19\n"
     ]
    }
   ],
   "source": [
    "import pandas as pd\n",
    "the_dude_actors = cast[cast['character'] == 'The Dude']\n",
    "number_of_the_dude_actors = len(the_dude_actors['name'].unique())\n",
    "print(\"Number of people who have played the role of 'The Dude':\",number_of_the_dude_actors)"
   ]
  },
  {
   "cell_type": "markdown",
   "id": "73133e89",
   "metadata": {},
   "source": [
    "# 22)How many people have played a role called “The Stranger”?"
   ]
  },
  {
   "cell_type": "code",
   "execution_count": 43,
   "id": "5d13cff8",
   "metadata": {},
   "outputs": [
    {
     "name": "stdout",
     "output_type": "stream",
     "text": [
      "Number of people who have played the role of 'The Stranger': 202\n"
     ]
    }
   ],
   "source": [
    "import pandas as pd\n",
    "the_stranger_actors = cast[cast['character'] == 'The Stranger']\n",
    "number_of_the_stranger_actors = len(the_stranger_actors['name'].unique())\n",
    "print(\"Number of people who have played the role of 'The Stranger':\",number_of_the_stranger_actors)"
   ]
  },
  {
   "cell_type": "markdown",
   "id": "c69aae73",
   "metadata": {},
   "source": [
    "# 23)How many roles has Sidney Poitier played throughout his career?"
   ]
  },
  {
   "cell_type": "code",
   "execution_count": 44,
   "id": "4c4ea33a",
   "metadata": {},
   "outputs": [
    {
     "name": "stdout",
     "output_type": "stream",
     "text": [
      "Number of roles played by Sidney Poitier throughout his career: 41\n"
     ]
    }
   ],
   "source": [
    "import pandas as pd\n",
    "sidney_poitier_roles = cast[cast['name'] == 'Sidney Poitier']\n",
    "number_of_roles_by_sidney_poitier = len(sidney_poitier_roles['character'].unique())\n",
    "print(\"Number of roles played by Sidney Poitier throughout his career:\",number_of_roles_by_sidney_poitier)"
   ]
  },
  {
   "cell_type": "markdown",
   "id": "6e587227",
   "metadata": {},
   "source": [
    "# 24)How many roles has Judi Dench played"
   ]
  },
  {
   "cell_type": "code",
   "execution_count": 45,
   "id": "90b23d91",
   "metadata": {},
   "outputs": [
    {
     "name": "stdout",
     "output_type": "stream",
     "text": [
      "Number of roles played by Judi Dench throughout her career: 46\n"
     ]
    }
   ],
   "source": [
    "import pandas as pd\n",
    "judi_dench_roles = cast[cast['name'] == 'Judi Dench']\n",
    "number_of_roles_by_judi_dench = len(judi_dench_roles['character'].unique())\n",
    "print(\"Number of roles played by Judi Dench throughout her career:\",number_of_roles_by_judi_dench)"
   ]
  },
  {
   "cell_type": "markdown",
   "id": "378bcb71",
   "metadata": {},
   "source": [
    "# 25)List the supporting roles (having n=2) played by Cary Grant in the 1940s, in order by year."
   ]
  },
  {
   "cell_type": "code",
   "execution_count": 46,
   "id": "d38d7f96",
   "metadata": {},
   "outputs": [
    {
     "name": "stdout",
     "output_type": "stream",
     "text": [
      "        year    character\n",
      "871423  1940   Nick Arden\n",
      "871433  1941  Roger Adams\n"
     ]
    }
   ],
   "source": [
    "import pandas as pd\n",
    "cary_grant_supporting_roles_1940s = cast[(cast['name'] == 'Cary Grant') &(cast['n'] == 2) & (cast['year'] >= 1940) & (cast['year'] <= 1949)]\n",
    "cary_grant_supporting_roles_1940s_sorted = cary_grant_supporting_roles_1940s.sort_values(by='year')\n",
    "print(cary_grant_supporting_roles_1940s_sorted[['year', 'character']])"
   ]
  },
  {
   "cell_type": "markdown",
   "id": "8bbef2ab",
   "metadata": {},
   "source": [
    "# 26)List the leading roles that Cary Grant played in the 1940s in order by year"
   ]
  },
  {
   "cell_type": "code",
   "execution_count": 48,
   "id": "e2f07625",
   "metadata": {},
   "outputs": [
    {
     "name": "stdout",
     "output_type": "stream",
     "text": [
      "        year                             character\n",
      "871448  1940                           Matt Howard\n",
      "871407  1940                          Walter Burns\n",
      "871450  1940                    C. K. Dexter Haven\n",
      "871438  1941                      Johnnie Aysgarth\n",
      "871452  1942                          Leopold Dilg\n",
      "871429  1942                 Patrick 'Pat' O'Toole\n",
      "871398  1943                         Capt. Cassidy\n",
      "871422  1943  Joe Adams -posing as Joe Bascopolous\n",
      "871430  1944                           Jerry Flynn\n",
      "871390  1944                     Mortimer Brewster\n",
      "871425  1944                            Ernie Mott\n",
      "871424  1946                           Cole Porter\n",
      "871427  1946                                Devlin\n",
      "871444  1947                           Dick Nugent\n",
      "871445  1947                                Dudley\n",
      "871421  1948                         Jim Blandings\n",
      "871402  1948                     Dr. Madison Brown\n",
      "871411  1949                 Captain Henri Rochard\n"
     ]
    }
   ],
   "source": [
    "import pandas as pd\n",
    "cary_grant_leading_roles_1940s = cast[(cast['name'] == 'Cary Grant') &(cast['n'] == 1) & (cast['year'] >= 1940) & (cast['year'] <= 1949)]\n",
    "cary_grant_leading_roles_1940s_sorted = cary_grant_leading_roles_1940s.sort_values(by='year')\n",
    "print(cary_grant_leading_roles_1940s_sorted[['year', 'character']])"
   ]
  },
  {
   "cell_type": "markdown",
   "id": "c486a6dc",
   "metadata": {},
   "source": [
    "# 27)How many roles were available for actors in the 1950s?"
   ]
  },
  {
   "cell_type": "code",
   "execution_count": 49,
   "id": "f9e10782",
   "metadata": {},
   "outputs": [
    {
     "name": "stdout",
     "output_type": "stream",
     "text": [
      "Number of roles available for actors in the 1950s: 128233\n"
     ]
    }
   ],
   "source": [
    "import pandas as pd\n",
    "roles_in_1950s = cast[(cast['year'] >= 1950) & (cast['year'] <= 1959)]\n",
    "number_of_roles_in_1950s = len(roles_in_1950s['character'].unique())\n",
    "print(\"Number of roles available for actors in the 1950s:\",number_of_roles_in_1950s)"
   ]
  },
  {
   "cell_type": "markdown",
   "id": "3167cb93",
   "metadata": {},
   "source": [
    "# 28)How many roles were available for actresses in the 1950s?"
   ]
  },
  {
   "cell_type": "code",
   "execution_count": 50,
   "id": "69f96fca",
   "metadata": {},
   "outputs": [
    {
     "name": "stdout",
     "output_type": "stream",
     "text": [
      "57733\n"
     ]
    }
   ],
   "source": [
    "actress_roles_1950s = cast[(cast['year'] >= 1950) & (cast['year'] <= 1959) &(cast['type'] == 'actress')]\n",
    "num_actress_roles_1950s = len(actress_roles_1950s)\n",
    "print(num_actress_roles_1950s)"
   ]
  },
  {
   "cell_type": "markdown",
   "id": "6d20004a",
   "metadata": {},
   "source": [
    "# 29)How many leading roles (n=1) were available from the beginning of film history through 1980?"
   ]
  },
  {
   "cell_type": "code",
   "execution_count": 51,
   "id": "6e367dc8",
   "metadata": {},
   "outputs": [
    {
     "name": "stdout",
     "output_type": "stream",
     "text": [
      "Number of leading roles (n=1) available from the beginning of film history through 1980: 65140\n"
     ]
    }
   ],
   "source": [
    "import pandas as pd\n",
    "leading_roles_until_1980 = cast[(cast['n'] == 1) & (cast['year'] <= 1980)]\n",
    "number_of_leading_roles_until_1980 = len(leading_roles_until_1980)\n",
    "print(\"Number of leading roles (n=1) available from the beginning of film history through 1980:\", number_of_leading_roles_until_1980)"
   ]
  },
  {
   "cell_type": "markdown",
   "id": "278221fe",
   "metadata": {},
   "source": [
    "# 30)How many non-leading roles were available through from the beginning of film history through 1980?"
   ]
  },
  {
   "cell_type": "code",
   "execution_count": 52,
   "id": "2ddee07a",
   "metadata": {},
   "outputs": [
    {
     "name": "stdout",
     "output_type": "stream",
     "text": [
      "Number of non-leading roles available from the beginning of film history through 1980: 1117667\n"
     ]
    }
   ],
   "source": [
    "import pandas as pd\n",
    "non_leading_roles_until_1980 = cast[(cast['n'] != 1) & (cast['year'] <= 1980)]\n",
    "number_of_non_leading_roles_until_1980 = len(non_leading_roles_until_1980)\n",
    "print(\"Number of non-leading roles available from the beginning of film history through 1980:\", number_of_non_leading_roles_until_1980)"
   ]
  },
  {
   "cell_type": "markdown",
   "id": "a75d533a",
   "metadata": {},
   "source": [
    "# 31)How many roles through 1980 were minor enough that they did not warrant a numeric “n” rank?"
   ]
  },
  {
   "cell_type": "code",
   "execution_count": 53,
   "id": "16bc0e3d",
   "metadata": {},
   "outputs": [
    {
     "name": "stdout",
     "output_type": "stream",
     "text": [
      "Number of roles through 1980 that did not warrant a numeric 'n' rank: 448347\n"
     ]
    }
   ],
   "source": [
    "import pandas as pd\n",
    "import numpy as np\n",
    "minor_roles_until_1980 = cast[(cast['year'] <= 1980) & (cast['n'].isna())]\n",
    "number_of_minor_roles_until_1980 = len(minor_roles_until_1980)\n",
    "print(\"Number of roles through 1980 that did not warrant a numeric 'n' rank:\",number_of_minor_roles_until_1980)"
   ]
  }
 ],
 "metadata": {
  "kernelspec": {
   "display_name": "Python 3 (ipykernel)",
   "language": "python",
   "name": "python3"
  },
  "language_info": {
   "codemirror_mode": {
    "name": "ipython",
    "version": 3
   },
   "file_extension": ".py",
   "mimetype": "text/x-python",
   "name": "python",
   "nbconvert_exporter": "python",
   "pygments_lexer": "ipython3",
   "version": "3.11.4"
  }
 },
 "nbformat": 4,
 "nbformat_minor": 5
}
