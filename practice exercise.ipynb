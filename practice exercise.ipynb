{
 "cells": [
  {
   "cell_type": "markdown",
   "id": "28f70eb8",
   "metadata": {},
   "source": [
    "# 1.manipulate using a list"
   ]
  },
  {
   "cell_type": "code",
   "execution_count": 2,
   "id": "b43d38a6",
   "metadata": {},
   "outputs": [
    {
     "data": {
      "text/plain": [
       "[23, 3, 'python']"
      ]
     },
     "execution_count": 2,
     "metadata": {},
     "output_type": "execute_result"
    }
   ],
   "source": [
    "list=[23,3,'python']\n",
    "list"
   ]
  },
  {
   "cell_type": "code",
   "execution_count": 3,
   "id": "4a8419e9",
   "metadata": {},
   "outputs": [
    {
     "data": {
      "text/plain": [
       "[23, 3, 'python', 23456]"
      ]
     },
     "execution_count": 3,
     "metadata": {},
     "output_type": "execute_result"
    }
   ],
   "source": [
    "#To add new elements to the end of the list\n",
    "\n",
    "list.append(23456)\n",
    "list"
   ]
  },
  {
   "cell_type": "code",
   "execution_count": 8,
   "id": "f1de447c",
   "metadata": {},
   "outputs": [
    {
     "name": "stdout",
     "output_type": "stream",
     "text": [
      "Reversed list: \n",
      "\n",
      " [23, 3, 'python', 23456]\n"
     ]
    }
   ],
   "source": [
    "#To reverse elements in the list\n",
    "list.reverse()\n",
    "print('Reversed list: \\n\\n',list)"
   ]
  },
  {
   "cell_type": "code",
   "execution_count": 10,
   "id": "5492c03b",
   "metadata": {},
   "outputs": [
    {
     "name": "stdout",
     "output_type": "stream",
     "text": [
      "list of elements multiple times: \n",
      "\n",
      " [23, 3, 'python', 23456, 23, 3, 'python', 23456, 23, 3, 'python', 23456, 23, 3, 'python', 23456, 23, 3, 'python', 23456]\n"
     ]
    }
   ],
   "source": [
    "#To display the same list of elements multiple times.\n",
    "list*5\n",
    "print('list of elements multiple times: \\n\\n',list*5)\n"
   ]
  },
  {
   "cell_type": "code",
   "execution_count": 11,
   "id": "9dab50d4",
   "metadata": {},
   "outputs": [
    {
     "name": "stdout",
     "output_type": "stream",
     "text": [
      "concatenate+:[1, 2, 3, 4, 5, 6]\n"
     ]
    }
   ],
   "source": [
    "#To concatenate two list\n",
    "list1=[1,2,3]\n",
    "list2=[4,5,6]\n",
    "list3=list1+list2\n",
    "print(\"concatenate+:\"+str(list3))\n"
   ]
  },
  {
   "cell_type": "code",
   "execution_count": 20,
   "id": "c98ecb67",
   "metadata": {},
   "outputs": [
    {
     "name": "stdout",
     "output_type": "stream",
     "text": [
      "[10, 20, 30, 40, 50]\n"
     ]
    }
   ],
   "source": [
    "#To sort the elements in the list in ascending order\n",
    "list=[40,30,10,50,20]\n",
    "list.sort()\n",
    "print(list)"
   ]
  },
  {
   "cell_type": "markdown",
   "id": "57c9eaa9",
   "metadata": {},
   "source": [
    "# write a python to do in the tuples"
   ]
  },
  {
   "cell_type": "code",
   "execution_count": null,
   "id": "66d245f3",
   "metadata": {},
   "outputs": [],
   "source": [
    "1)Manipulate using tuples\n"
   ]
  },
  {
   "cell_type": "code",
   "execution_count": null,
   "id": "9e2bd2a9",
   "metadata": {},
   "outputs": [],
   "source": []
  },
  {
   "cell_type": "code",
   "execution_count": null,
   "id": "8641c461",
   "metadata": {},
   "outputs": [],
   "source": []
  },
  {
   "cell_type": "code",
   "execution_count": null,
   "id": "c36929a7",
   "metadata": {},
   "outputs": [],
   "source": []
  },
  {
   "cell_type": "code",
   "execution_count": null,
   "id": "90d51f80",
   "metadata": {},
   "outputs": [],
   "source": []
  },
  {
   "cell_type": "code",
   "execution_count": null,
   "id": "5598ea67",
   "metadata": {},
   "outputs": [],
   "source": []
  }
 ],
 "metadata": {
  "kernelspec": {
   "display_name": "Python 3 (ipykernel)",
   "language": "python",
   "name": "python3"
  },
  "language_info": {
   "codemirror_mode": {
    "name": "ipython",
    "version": 3
   },
   "file_extension": ".py",
   "mimetype": "text/x-python",
   "name": "python",
   "nbconvert_exporter": "python",
   "pygments_lexer": "ipython3",
   "version": "3.11.4"
  }
 },
 "nbformat": 4,
 "nbformat_minor": 5
}
