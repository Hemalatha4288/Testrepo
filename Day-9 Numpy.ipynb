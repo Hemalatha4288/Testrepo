{
 "cells": [
  {
   "cell_type": "markdown",
   "id": "3e13c59b",
   "metadata": {},
   "source": [
    "# 1)Create a 3*3*3 array with random values"
   ]
  },
  {
   "cell_type": "code",
   "execution_count": 1,
   "id": "59b3d254",
   "metadata": {},
   "outputs": [
    {
     "name": "stdout",
     "output_type": "stream",
     "text": [
      "[[[0.1726313  0.31160256 0.59977904]\n",
      "  [0.15614859 0.17113507 0.40788628]\n",
      "  [0.20015593 0.20800003 0.34096479]]\n",
      "\n",
      " [[0.16729976 0.55847939 0.08300995]\n",
      "  [0.57642959 0.93732709 0.34184778]\n",
      "  [0.30019135 0.30009854 0.43413646]]\n",
      "\n",
      " [[0.23680598 0.72145404 0.18115935]\n",
      "  [0.73044262 0.04057577 0.94658704]\n",
      "  [0.45318226 0.74117843 0.03068014]]]\n"
     ]
    }
   ],
   "source": [
    "import numpy as np\n",
    "\n",
    "# Create a 3x3x3 array with random values between 0 and 1\n",
    "random_array = np.random.rand(3, 3, 3)\n",
    "\n",
    "print(random_array)"
   ]
  },
  {
   "cell_type": "markdown",
   "id": "fc9ec52b",
   "metadata": {},
   "source": [
    "# 2)Create a 5*5 matrix with values 1,2,3,4 just below the diagonal"
   ]
  },
  {
   "cell_type": "code",
   "execution_count": 3,
   "id": "46d100da",
   "metadata": {},
   "outputs": [
    {
     "name": "stdout",
     "output_type": "stream",
     "text": [
      "[[0. 0. 0. 0. 0.]\n",
      " [2. 0. 0. 0. 0.]\n",
      " [3. 2. 0. 0. 0.]\n",
      " [4. 3. 2. 0. 0.]\n",
      " [0. 4. 3. 2. 0.]]\n"
     ]
    }
   ],
   "source": [
    "import numpy as np\n",
    "\n",
    "# Create a 5x5 matrix with zeros\n",
    "matrix = np.zeros((5, 5))\n",
    "\n",
    "# Set values 2, 3, and 4 just below the diagonal\n",
    "np.fill_diagonal(matrix[1:], 2)\n",
    "np.fill_diagonal(matrix[2:], 3)\n",
    "np.fill_diagonal(matrix[3:], 4)\n",
    "\n",
    "print(matrix)"
   ]
  },
  {
   "cell_type": "markdown",
   "id": "f39ca0ca",
   "metadata": {},
   "source": [
    "# 3)Create a 8*8 matrix and fill it with a checkboard pattern"
   ]
  },
  {
   "cell_type": "code",
   "execution_count": 4,
   "id": "139a482a",
   "metadata": {},
   "outputs": [
    {
     "name": "stdout",
     "output_type": "stream",
     "text": [
      "0 1 0 1 0 1 0 1\n",
      "1 0 1 0 1 0 1 0\n",
      "0 1 0 1 0 1 0 1\n",
      "1 0 1 0 1 0 1 0\n",
      "0 1 0 1 0 1 0 1\n",
      "1 0 1 0 1 0 1 0\n",
      "0 1 0 1 0 1 0 1\n",
      "1 0 1 0 1 0 1 0\n"
     ]
    }
   ],
   "source": [
    "import numpy as np\n",
    "\n",
    "# Create an 8x8 matrix filled with zeros\n",
    "matrix = np.zeros((8, 8), dtype=int)\n",
    "\n",
    "# Fill the matrix with the checkerboard pattern\n",
    "matrix[1::2, ::2] = 1  # Rows 2, 4, 6 (indexing starts from 0) and alternate columns\n",
    "matrix[::2, 1::2] = 1  # Rows 1, 3, 5 and alternate columns\n",
    "\n",
    "# Print the checkerboard pattern\n",
    "for row in matrix:\n",
    "    print(\" \".join(map(str, row)))"
   ]
  },
  {
   "cell_type": "markdown",
   "id": "6052dbf9",
   "metadata": {},
   "source": [
    "# 4)Normalize a 5*5 random matrix"
   ]
  },
  {
   "cell_type": "code",
   "execution_count": 6,
   "id": "c4da69d6",
   "metadata": {},
   "outputs": [
    {
     "name": "stdout",
     "output_type": "stream",
     "text": [
      "Original Matrix:\n",
      "[[0.50604556 0.56286318 0.74091019 0.15344566 0.17697355]\n",
      " [0.55373054 0.39228044 0.87385438 0.08008815 0.79664548]\n",
      " [0.51747875 0.02252419 0.92161128 0.20128518 0.98813631]\n",
      " [0.27676226 0.80265948 0.36527241 0.97545347 0.49122637]\n",
      " [0.69137485 0.05284912 0.79980014 0.40732532 0.32774407]]\n",
      "\n",
      "Normalized Matrix:\n",
      "[[0.50074078 0.55958183 0.74396954 0.13558391 0.15994969]\n",
      " [0.55012395 0.3829242  0.8816482  0.05961396 0.8016897 ]\n",
      " [0.51258114 0.         0.93110585 0.18512712 1.        ]\n",
      " [0.26329212 0.80791788 0.35495435 0.9868655  0.48539385]\n",
      " [0.69267012 0.03140488 0.80495671 0.39850487 0.31608953]]\n"
     ]
    }
   ],
   "source": [
    "import numpy as np\n",
    "\n",
    "# Create a random 5x5 matrix\n",
    "matrix = np.random.rand(5, 5)\n",
    "\n",
    "# Calculate the minimum and maximum values in the matrix\n",
    "min_value = np.min(matrix)\n",
    "max_value = np.max(matrix)\n",
    "\n",
    "# Normalize the matrix to range [0, 1]\n",
    "normalized_matrix = (matrix - min_value) / (max_value - min_value)\n",
    "\n",
    "# Print the original and normalized matrices\n",
    "print(\"Original Matrix:\")\n",
    "print(matrix)\n",
    "print(\"\\nNormalized Matrix:\")\n",
    "print(normalized_matrix)"
   ]
  },
  {
   "cell_type": "markdown",
   "id": "8d594191",
   "metadata": {},
   "source": [
    "# 5)How to find common values between two arrays."
   ]
  },
  {
   "cell_type": "code",
   "execution_count": 7,
   "id": "8d9767c9",
   "metadata": {},
   "outputs": [
    {
     "name": "stdout",
     "output_type": "stream",
     "text": [
      "[3 4 5]\n"
     ]
    }
   ],
   "source": [
    "import numpy as np\n",
    "\n",
    "def find_common_elements(arr1, arr2):\n",
    "    common_elements = np.intersect1d(arr1, arr2)\n",
    "    return common_elements\n",
    "\n",
    "# Example usage:\n",
    "array1 = np.array([1, 2, 3, 4, 5])\n",
    "array2 = np.array([3, 4, 5, 6, 7])\n",
    "result = find_common_elements(array1, array2)\n",
    "print(result) "
   ]
  },
  {
   "cell_type": "markdown",
   "id": "beaa3809",
   "metadata": {},
   "source": [
    "# 6)Write a python code how to get the dates of yesterday, today,and tomorrow"
   ]
  },
  {
   "cell_type": "code",
   "execution_count": 22,
   "id": "5bc26faa",
   "metadata": {},
   "outputs": [
    {
     "name": "stdout",
     "output_type": "stream",
     "text": [
      "Yesterday: 2023-09-20\n",
      "Today: 2023-09-21\n",
      "Tomorrow: 2023-09-22\n"
     ]
    }
   ],
   "source": [
    "import numpy as np\n",
    "import datetime\n",
    "\n",
    "# Get the current date\n",
    "today = np.datetime64('today')\n",
    "\n",
    "# Calculate yesterday and tomorrow\n",
    "yesterday = today - np.timedelta64(1, 'D')\n",
    "tomorrow = today + np.timedelta64(1, 'D')\n",
    "\n",
    "# Convert the numpy.datetime64 objects to Python datetime objects for better readability (optional)\n",
    "today = today.astype(datetime.datetime)\n",
    "yesterday = yesterday.astype(datetime.datetime)\n",
    "tomorrow = tomorrow.astype(datetime.datetime)\n",
    "\n",
    "# Print the results\n",
    "print(\"Yesterday:\", yesterday)\n",
    "print(\"Today:\", today)\n",
    "print(\"Tomorrow:\", tomorrow)"
   ]
  },
  {
   "cell_type": "code",
   "execution_count": null,
   "id": "a034f5e6",
   "metadata": {},
   "outputs": [],
   "source": [
    "#7)Consider two random arraysA"
   ]
  },
  {
   "cell_type": "code",
   "execution_count": 9,
   "id": "2ef98202",
   "metadata": {},
   "outputs": [
    {
     "name": "stdout",
     "output_type": "stream",
     "text": [
      "Arrays A and B are equal.\n"
     ]
    }
   ],
   "source": [
    "A = np.array([1, 2, 3, 4, 5])\n",
    "B = np.array([1, 2, 3, 4, 5])\n",
    "\n",
    "# Check if the arrays are equal\n",
    "if np.array_equal(A, B):\n",
    "    print(\"Arrays A and B are equal.\")\n",
    "else:\n",
    "    print(\"Arrays A and B are not equal.\")"
   ]
  },
  {
   "cell_type": "markdown",
   "id": "b6044377",
   "metadata": {},
   "source": [
    "# 8)Create random vector of size 10 and replace the maximum value by 0"
   ]
  },
  {
   "cell_type": "code",
   "execution_count": 10,
   "id": "fee715cb",
   "metadata": {},
   "outputs": [
    {
     "name": "stdout",
     "output_type": "stream",
     "text": [
      "Original vector:\n",
      "[0.82616287 0.30828939 0.         0.31758905 0.35735086 0.45790246\n",
      " 0.33185355 0.46789253 0.70578581 0.00926165]\n"
     ]
    }
   ],
   "source": [
    "import numpy as np\n",
    "\n",
    "# Create a random vector of size 10\n",
    "random_vector = np.random.rand(10)\n",
    "\n",
    "# Find the index of the maximum value in the vector\n",
    "max_index = np.argmax(random_vector)\n",
    "\n",
    "# Replace the maximum value with 0\n",
    "random_vector[max_index] = 0\n",
    "\n",
    "print(\"Original vector:\")\n",
    "print(random_vector)"
   ]
  },
  {
   "cell_type": "markdown",
   "id": "c0564f7e",
   "metadata": {},
   "source": [
    "# 9)Write a python code how to print all the values of an array"
   ]
  },
  {
   "cell_type": "code",
   "execution_count": 11,
   "id": "0c97630d",
   "metadata": {},
   "outputs": [
    {
     "name": "stdout",
     "output_type": "stream",
     "text": [
      "1\n",
      "2\n",
      "3\n",
      "4\n",
      "5\n"
     ]
    }
   ],
   "source": [
    "import numpy as np\n",
    "\n",
    "# Create a NumPy array\n",
    "my_array = np.array([1, 2, 3, 4, 5])\n",
    "\n",
    "# Print all the values in the array\n",
    "for value in my_array:\n",
    "    print(value)"
   ]
  },
  {
   "cell_type": "markdown",
   "id": "e57c2661",
   "metadata": {},
   "source": [
    "# 10)Subtract the mean of each row of a matrix"
   ]
  },
  {
   "cell_type": "code",
   "execution_count": 12,
   "id": "4b2d2f6b",
   "metadata": {},
   "outputs": [
    {
     "name": "stdout",
     "output_type": "stream",
     "text": [
      "Original Matrix:\n",
      "[[1 2 3]\n",
      " [4 5 6]\n",
      " [7 8 9]]\n",
      "\n",
      "Matrix with Row Means Subtracted:\n",
      "[[-1.  0.  1.]\n",
      " [-1.  0.  1.]\n",
      " [-1.  0.  1.]]\n"
     ]
    }
   ],
   "source": [
    "import numpy as np\n",
    "\n",
    "# Sample matrix (replace this with your own matrix)\n",
    "matrix = np.array([[1, 2, 3],\n",
    "                   [4, 5, 6],\n",
    "                   [7, 8, 9]])\n",
    "\n",
    "# Calculate the mean of each row\n",
    "row_means = np.mean(matrix, axis=1)\n",
    "\n",
    "# Subtract the row means from the matrix\n",
    "result_matrix = matrix - row_means.reshape(-1, 1)\n",
    "\n",
    "print(\"Original Matrix:\")\n",
    "print(matrix)\n",
    "print(\"\\nMatrix with Row Means Subtracted:\")\n",
    "print(result_matrix)"
   ]
  },
  {
   "cell_type": "markdown",
   "id": "8e9c88e4",
   "metadata": {},
   "source": [
    "# 11)Consider a given vector, how to add 1 to each element indexed  by a second vector(be careful with repeated indices)"
   ]
  },
  {
   "cell_type": "code",
   "execution_count": 13,
   "id": "f5030efe",
   "metadata": {},
   "outputs": [
    {
     "name": "stdout",
     "output_type": "stream",
     "text": [
      "[2 4 4 5 6]\n"
     ]
    }
   ],
   "source": [
    "import numpy as np\n",
    "\n",
    "# Given vector\n",
    "given_vector = np.array([1, 2, 3, 4, 5])\n",
    "\n",
    "# Second vector with indices\n",
    "indices_vector = np.array([1, 3, 2, 1, 4, 0])\n",
    "\n",
    "# Create a dictionary to store the indices and their counts\n",
    "index_counts = {}\n",
    "for index in indices_vector:\n",
    "    if index in index_counts:\n",
    "        index_counts[index] += 1\n",
    "    else:\n",
    "        index_counts[index] = 1\n",
    "\n",
    "# Add 1 to each element indexed by the second vector (taking care of repeated indices)\n",
    "result_vector = given_vector.copy()\n",
    "for index, count in index_counts.items():\n",
    "    result_vector[index] += count\n",
    "\n",
    "print(result_vector)"
   ]
  },
  {
   "cell_type": "markdown",
   "id": "eb6bd8fb",
   "metadata": {},
   "source": [
    "# 12)How to get the diagonal of a dot product"
   ]
  },
  {
   "cell_type": "code",
   "execution_count": 23,
   "id": "245a7f7f",
   "metadata": {},
   "outputs": [
    {
     "name": "stdout",
     "output_type": "stream",
     "text": [
      "Matrix C:\n",
      "[[ 30  24  18]\n",
      " [ 84  69  54]\n",
      " [138 114  90]]\n",
      "Diagonal of C:\n",
      "[30 69 90]\n"
     ]
    }
   ],
   "source": [
    "import numpy as np\n",
    "\n",
    "# Create two example matrices A and B\n",
    "A = np.array([[1, 2, 3],\n",
    "              [4, 5, 6],\n",
    "              [7, 8, 9]])\n",
    "\n",
    "B = np.array([[9, 8, 7],\n",
    "              [6, 5, 4],\n",
    "              [3, 2, 1]])\n",
    "\n",
    "# Compute the dot product of A and B\n",
    "C = np.dot(A, B)\n",
    "\n",
    "# Extract the diagonal elements of C\n",
    "diagonal = np.diag(C)\n",
    "\n",
    "print(\"Matrix C:\")\n",
    "print(C)\n",
    "\n",
    "print(\"Diagonal of C:\")\n",
    "print(diagonal)"
   ]
  },
  {
   "cell_type": "markdown",
   "id": "d1778699",
   "metadata": {},
   "source": [
    "# 13)How to find the most frequent value in an array"
   ]
  },
  {
   "cell_type": "code",
   "execution_count": 25,
   "id": "1b06a882",
   "metadata": {},
   "outputs": [
    {
     "name": "stdout",
     "output_type": "stream",
     "text": [
      "The most frequent value is: 4\n"
     ]
    }
   ],
   "source": [
    "def most_frequent_value(arr):\n",
    "    # Create an empty dictionary to store the frequency of each value\n",
    "    frequency_dict = {}\n",
    "    \n",
    "    # Iterate through the array and update the frequency dictionary\n",
    "    for value in arr:\n",
    "        if value in frequency_dict:\n",
    "            frequency_dict[value] += 1\n",
    "        else:\n",
    "            frequency_dict[value] = 1\n",
    "    \n",
    "    # Find the maximum frequency and corresponding value\n",
    "    max_frequency = 0\n",
    "    most_frequent = None\n",
    "    for value, frequency in frequency_dict.items():\n",
    "        if frequency > max_frequency:\n",
    "            max_frequency = frequency\n",
    "            most_frequent = value\n",
    "    \n",
    "    return most_frequent\n",
    "\n",
    "# Example usage:\n",
    "arr = [1, 2, 2, 3, 3, 3, 4, 4, 4, 4]\n",
    "result = most_frequent_value(arr)\n",
    "print(\"The most frequent value is:\", result)"
   ]
  },
  {
   "cell_type": "markdown",
   "id": "d50b40c2",
   "metadata": {},
   "source": [
    "# 14)how to get the n largest values of an array"
   ]
  },
  {
   "cell_type": "code",
   "execution_count": 16,
   "id": "663b05fa",
   "metadata": {},
   "outputs": [
    {
     "name": "stdout",
     "output_type": "stream",
     "text": [
      "Array: [12 45 23  6 78 91 32 55  8 19]\n",
      "The 3 largest values are: [55 78 91]\n"
     ]
    }
   ],
   "source": [
    "import numpy as np\n",
    "\n",
    "# Sample array\n",
    "arr = np.array([12, 45, 23, 6, 78, 91, 32, 55, 8, 19])\n",
    "\n",
    "# Number of largest values you want to find\n",
    "n = 3\n",
    "\n",
    "# Use numpy.partition to get the n largest values\n",
    "largest_values = np.partition(arr, -n)[-n:]\n",
    "\n",
    "print(\"Array:\", arr)\n",
    "print(f\"The {n} largest values are:\", largest_values)"
   ]
  },
  {
   "cell_type": "markdown",
   "id": "77a7460d",
   "metadata": {},
   "source": [
    "# 15)how to create a record array from regular array"
   ]
  },
  {
   "cell_type": "code",
   "execution_count": 18,
   "id": "5bb4412d",
   "metadata": {},
   "outputs": [
    {
     "name": "stdout",
     "output_type": "stream",
     "text": [
      "ID: [1 2 3]\n",
      "Name: ['Hema' 'Navii' 'Lucky']\n",
      "Age: [25 30 22]\n"
     ]
    }
   ],
   "source": [
    "import numpy as np\n",
    "\n",
    "# Create a regular array\n",
    "regular_array = np.array([(1, 'Hema', 25),\n",
    "                          (2, 'Navii', 30),\n",
    "                          (3, 'Lucky', 22)],\n",
    "                         dtype=[('id', int), ('name', 'U10'), ('age', int)])\n",
    "\n",
    "# Create a record array from the regular array\n",
    "record_array = regular_array.view(np.recarray)\n",
    "\n",
    "# Accessing elements in the record array\n",
    "print(\"ID:\", record_array.id)\n",
    "print(\"Name:\", record_array.name)\n",
    "print(\"Age:\", record_array.age)"
   ]
  },
  {
   "cell_type": "markdown",
   "id": "12f33f94",
   "metadata": {},
   "source": [
    "# 16)how to swap two rows of an array"
   ]
  },
  {
   "cell_type": "code",
   "execution_count": 20,
   "id": "b58c9455",
   "metadata": {},
   "outputs": [
    {
     "name": "stdout",
     "output_type": "stream",
     "text": [
      "[[7 8 9]\n",
      " [4 5 6]\n",
      " [1 2 3]]\n"
     ]
    }
   ],
   "source": [
    "import numpy as np\n",
    "\n",
    "# Create a sample 2D NumPy array\n",
    "array = np.array([[1, 2, 3],\n",
    "                  [4, 5, 6],\n",
    "                  [7, 8, 9]])\n",
    "\n",
    "# Define the row numbers you want to swap\n",
    "row1 = 0  # Row 1 (0-based index)\n",
    "row2 = 2  # Row 2 (0-based index)\n",
    "\n",
    "# Swap the rows\n",
    "array[row1], array[row2] = array[row2].copy(), array[row1].copy()\n",
    "\n",
    "# Print the modified array\n",
    "print(array)"
   ]
  },
  {
   "cell_type": "markdown",
   "id": "91c455e9",
   "metadata": {},
   "source": [
    "# 17)Write python code to reshape to the next dimension of numpy array"
   ]
  },
  {
   "cell_type": "code",
   "execution_count": 21,
   "id": "ff7fda8f",
   "metadata": {},
   "outputs": [
    {
     "name": "stdout",
     "output_type": "stream",
     "text": [
      "Original Array:\n",
      "[1 2 3 4 5 6]\n",
      "\n",
      "Reshaped Array:\n",
      "[[1]\n",
      " [2]\n",
      " [3]\n",
      " [4]\n",
      " [5]\n",
      " [6]]\n"
     ]
    }
   ],
   "source": [
    "import numpy as np\n",
    "\n",
    "# Create a sample NumPy array\n",
    "original_array = np.array([1, 2, 3, 4, 5, 6])  # 1-D array with 6 elements\n",
    "\n",
    "# Determine the new shape by increasing the dimension by 1\n",
    "new_shape = (original_array.size, 1)\n",
    "\n",
    "# Reshape the array to the next dimension\n",
    "reshaped_array = original_array.reshape(new_shape)\n",
    "\n",
    "# Print the original and reshaped arrays\n",
    "print(\"Original Array:\")\n",
    "print(original_array)\n",
    "\n",
    "print(\"\\nReshaped Array:\")\n",
    "print(reshaped_array)"
   ]
  },
  {
   "cell_type": "code",
   "execution_count": null,
   "id": "5c4cf67f",
   "metadata": {},
   "outputs": [],
   "source": []
  }
 ],
 "metadata": {
  "kernelspec": {
   "display_name": "Python 3 (ipykernel)",
   "language": "python",
   "name": "python3"
  },
  "language_info": {
   "codemirror_mode": {
    "name": "ipython",
    "version": 3
   },
   "file_extension": ".py",
   "mimetype": "text/x-python",
   "name": "python",
   "nbconvert_exporter": "python",
   "pygments_lexer": "ipython3",
   "version": "3.11.4"
  }
 },
 "nbformat": 4,
 "nbformat_minor": 5
}
