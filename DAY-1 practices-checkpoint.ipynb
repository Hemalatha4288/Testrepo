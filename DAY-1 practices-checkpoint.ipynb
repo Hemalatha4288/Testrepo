{
 "cells": [
  {
   "cell_type": "markdown",
   "id": "f440753e",
   "metadata": {},
   "source": [
    "# 1.manipulate using a list"
   ]
  },
  {
   "cell_type": "code",
   "execution_count": 2,
   "id": "18d0cb3b",
   "metadata": {},
   "outputs": [
    {
     "data": {
      "text/plain": [
       "[23, 3, 'python']"
      ]
     },
     "execution_count": 2,
     "metadata": {},
     "output_type": "execute_result"
    }
   ],
   "source": [
    "list=[23,3,'python']\n",
    "list"
   ]
  },
  {
   "cell_type": "code",
   "execution_count": 3,
   "id": "1721edbf",
   "metadata": {},
   "outputs": [
    {
     "data": {
      "text/plain": [
       "[23, 3, 'python', 23456]"
      ]
     },
     "execution_count": 3,
     "metadata": {},
     "output_type": "execute_result"
    }
   ],
   "source": [
    "#To add new elements to the end of the list\n",
    "\n",
    "list.append(23456)\n",
    "list"
   ]
  },
  {
   "cell_type": "code",
   "execution_count": 8,
   "id": "ba01dd4d",
   "metadata": {},
   "outputs": [
    {
     "name": "stdout",
     "output_type": "stream",
     "text": [
      "Reversed list: \n",
      "\n",
      " [23, 3, 'python', 23456]\n"
     ]
    }
   ],
   "source": [
    "#To reverse elements in the list\n",
    "list.reverse()\n",
    "print('Reversed list: \\n\\n',list)"
   ]
  },
  {
   "cell_type": "code",
   "execution_count": 10,
   "id": "a83ad46f",
   "metadata": {},
   "outputs": [
    {
     "name": "stdout",
     "output_type": "stream",
     "text": [
      "list of elements multiple times: \n",
      "\n",
      " [23, 3, 'python', 23456, 23, 3, 'python', 23456, 23, 3, 'python', 23456, 23, 3, 'python', 23456, 23, 3, 'python', 23456]\n"
     ]
    }
   ],
   "source": [
    "#To display the same list of elements multiple times.\n",
    "list*5\n",
    "print('list of elements multiple times: \\n\\n',list*5)\n"
   ]
  },
  {
   "cell_type": "code",
   "execution_count": 11,
   "id": "864d5269",
   "metadata": {},
   "outputs": [
    {
     "name": "stdout",
     "output_type": "stream",
     "text": [
      "concatenate+:[1, 2, 3, 4, 5, 6]\n"
     ]
    }
   ],
   "source": [
    "#To concatenate two list\n",
    "list1=[1,2,3]\n",
    "list2=[4,5,6]\n",
    "list3=list1+list2\n",
    "print(\"concatenate+:\"+str(list3))\n"
   ]
  },
  {
   "cell_type": "code",
   "execution_count": 20,
   "id": "8e01ab37",
   "metadata": {},
   "outputs": [
    {
     "name": "stdout",
     "output_type": "stream",
     "text": [
      "[10, 20, 30, 40, 50]\n"
     ]
    }
   ],
   "source": [
    "#To sort the elements in the list in ascending order\n",
    "list=[40,30,10,50,20]\n",
    "list.sort()\n",
    "print(list)"
   ]
  },
  {
   "cell_type": "markdown",
   "id": "5e1dfd2d",
   "metadata": {},
   "source": [
    "# 2 write a python to do in the tuples"
   ]
  },
  {
   "cell_type": "code",
   "execution_count": 45,
   "id": "71365816",
   "metadata": {},
   "outputs": [
    {
     "name": "stdout",
     "output_type": "stream",
     "text": [
      "manipulate using tuples: (1, 2, 3, 4, 5, 6, 7, 8)\n"
     ]
    }
   ],
   "source": [
    "#1)Manipulate using tuples\n",
    "tuple=(1,2,3,4,5)\n",
    "tuple1=tuple+(6,7,8)\n",
    "print(\"manipulate using tuples:\",tuple1)\n"
   ]
  },
  {
   "cell_type": "code",
   "execution_count": 46,
   "id": "3a866056",
   "metadata": {},
   "outputs": [
    {
     "name": "stdout",
     "output_type": "stream",
     "text": [
      "Add new elements: (1, 2, 3, 4, 5, 6, 7, 8)\n"
     ]
    }
   ],
   "source": [
    "#2)To add new elements to the end of the tuples\n",
    "tuple +=(6,7,8)\n",
    "print(\"Add new elements:\",tuple)"
   ]
  },
  {
   "cell_type": "code",
   "execution_count": 74,
   "id": "95962db4",
   "metadata": {},
   "outputs": [
    {
     "name": "stdout",
     "output_type": "stream",
     "text": [
      "[1, 2, 3, 4, 5]\n",
      "<built-in method reverse of list object at 0x00000246B7C00DC0>\n"
     ]
    }
   ],
   "source": [
    "#3)To reverse elements in the list\n",
    "l=[1,2,3,4,5]\n",
    "l.reverse\n",
    "print(l)\n",
    "print(l.reverse)"
   ]
  },
  {
   "cell_type": "code",
   "execution_count": 60,
   "id": "125718b9",
   "metadata": {},
   "outputs": [
    {
     "name": "stdout",
     "output_type": "stream",
     "text": [
      "display elements multiple times: (5, 3, 1, 4, 2, 5, 3, 1, 4, 2, 5, 3, 1, 4, 2)\n"
     ]
    }
   ],
   "source": [
    "#4)to display the elements of the same tuple multiple times\n",
    "tuple1=tuple*3\n",
    "print(\"display elements multiple times:\",tuple1)\n"
   ]
  },
  {
   "cell_type": "code",
   "execution_count": 54,
   "id": "4234da63",
   "metadata": {},
   "outputs": [
    {
     "name": "stdout",
     "output_type": "stream",
     "text": [
      "concatenate two tuples: (1, 2, 3, 4, 5, 6)\n"
     ]
    }
   ],
   "source": [
    "#5)To concatenate two tuples\n",
    "tuple1=(1,2,3)\n",
    "tuple2=(4,5,6)\n",
    "tuple3=tuple1+tuple2\n",
    "print(\"concatenate two tuples:\",tuple3)"
   ]
  },
  {
   "cell_type": "code",
   "execution_count": 86,
   "id": "2d649ba1",
   "metadata": {},
   "outputs": [
    {
     "name": "stdout",
     "output_type": "stream",
     "text": [
      "[2, 4, 6, 6]\n"
     ]
    }
   ],
   "source": [
    "#6)To sort the elements in the list in ascending order\n",
    "tuples=(2,6,4,6)\n",
    "tuples=sorted(tuples)\n",
    "print(tuples)"
   ]
  },
  {
   "cell_type": "markdown",
   "id": "b6f07aab",
   "metadata": {},
   "source": [
    "# 3)Write a program to implement the following using list"
   ]
  },
  {
   "cell_type": "code",
   "execution_count": 36,
   "id": "95dfefd3",
   "metadata": {},
   "outputs": [
    {
     "data": {
      "text/plain": [
       "tuple"
      ]
     },
     "execution_count": 36,
     "metadata": {},
     "output_type": "execute_result"
    }
   ],
   "source": [
    "#1)Create a list with integers(minimum 10 numbers)\n",
    "list=[1,2,3,4,5,6,7,8,9,10]"
   ]
  },
  {
   "cell_type": "code",
   "execution_count": 75,
   "id": "a8fac011",
   "metadata": {},
   "outputs": [
    {
     "name": "stdout",
     "output_type": "stream",
     "text": [
      "last number in the list: 11\n"
     ]
    }
   ],
   "source": [
    "#2)How to display the last number in the list\n",
    "l_number=list[-1]\n",
    "print(\"last number in the list:\",l_number)"
   ]
  },
  {
   "cell_type": "code",
   "execution_count": 76,
   "id": "cb2c6151",
   "metadata": {},
   "outputs": [
    {
     "name": "stdout",
     "output_type": "stream",
     "text": [
      "values from index 0 to 3: [10, 20, 30, 40]\n"
     ]
    }
   ],
   "source": [
    "#3)command for displaying the values from the list[0:4]\n",
    "subset_0_to_4=list[0:4]\n",
    "print(\"values from index 0 to 3:\",subset_0_to_4)"
   ]
  },
  {
   "cell_type": "code",
   "execution_count": 77,
   "id": "22c02081",
   "metadata": {},
   "outputs": [
    {
     "name": "stdout",
     "output_type": "stream",
     "text": [
      "values from index 2 onwards: [30, 40, 50, 11, 11]\n"
     ]
    }
   ],
   "source": [
    "#4)command for displaying the values from the list[2:]\n",
    "subset_from_2_onwards=list[2:]\n",
    "print(\"values from index 2 onwards:\",subset_from_2_onwards)"
   ]
  },
  {
   "cell_type": "code",
   "execution_count": 78,
   "id": "2926dbb4",
   "metadata": {},
   "outputs": [
    {
     "name": "stdout",
     "output_type": "stream",
     "text": [
      "values up to index 5: [10, 20, 30, 40, 50, 11]\n"
     ]
    }
   ],
   "source": [
    "#5)command for displaying the values from the list[:6]\n",
    "subset_up_to_6=list[:6]\n",
    "print(\"values up to index 5:\",subset_up_to_6)"
   ]
  },
  {
   "cell_type": "markdown",
   "id": "59a5747b",
   "metadata": {},
   "source": [
    "# 4)write a python:tuple1=(10,50,20,40,30)"
   ]
  },
  {
   "cell_type": "code",
   "execution_count": 79,
   "id": "25375691",
   "metadata": {},
   "outputs": [
    {
     "name": "stdout",
     "output_type": "stream",
     "text": [
      "elements 10 and 50 from tuple1: 10 50\n"
     ]
    }
   ],
   "source": [
    "#1)to display the elements 10 and 50 from tuple1\n",
    "tuple1=(10,50,20,40,30)\n",
    "print(\"elements 10 and 50 from tuple1:\",tuple1[0],tuple1[1])"
   ]
  },
  {
   "cell_type": "code",
   "execution_count": 80,
   "id": "87d01486",
   "metadata": {},
   "outputs": [
    {
     "name": "stdout",
     "output_type": "stream",
     "text": [
      "length of a tuple1: 5\n"
     ]
    }
   ],
   "source": [
    "#2)To display the length of a tuple1\n",
    "print(\"length of a tuple1:\",len(tuple1))"
   ]
  },
  {
   "cell_type": "code",
   "execution_count": 81,
   "id": "6f2652a8",
   "metadata": {},
   "outputs": [
    {
     "name": "stdout",
     "output_type": "stream",
     "text": [
      "minimum element from tuple1: 10\n"
     ]
    }
   ],
   "source": [
    "#3)to find the minimum element from tuple1\n",
    "min_element=min(tuple1)\n",
    "print(\"minimum element from tuple1:\",min_element)"
   ]
  },
  {
   "cell_type": "code",
   "execution_count": 82,
   "id": "c48142c1",
   "metadata": {},
   "outputs": [
    {
     "name": "stdout",
     "output_type": "stream",
     "text": [
      "sum of elements in tuple1: 150\n"
     ]
    }
   ],
   "source": [
    "#4)to add all elements in the tuple1\n",
    "sum_elements=sum(tuple1)\n",
    "print(\"sum of elements in tuple1:\",sum_elements)"
   ]
  },
  {
   "cell_type": "code",
   "execution_count": 85,
   "id": "fe4ce4d5",
   "metadata": {},
   "outputs": [
    {
     "name": "stdout",
     "output_type": "stream",
     "text": [
      "tuple1 repeated 3 times: (10, 50, 20, 40, 30, 10, 50, 20, 40, 30, 10, 50, 20, 40, 30)\n"
     ]
    }
   ],
   "source": [
    "#5)To display the same tuple1 multiple times\n",
    "n=3\n",
    "tuple1_multiple = tuple1 * n\n",
    "print(\"tuple1 repeated\", n, \"times:\", tuple1_multiple)"
   ]
  },
  {
   "cell_type": "markdown",
   "id": "23e0eee3",
   "metadata": {},
   "source": [
    "# 5)write a python program:"
   ]
  },
  {
   "cell_type": "code",
   "execution_count": 5,
   "id": "85d0566f",
   "metadata": {},
   "outputs": [
    {
     "name": "stdout",
     "output_type": "stream",
     "text": [
      "length of a string: 11\n"
     ]
    }
   ],
   "source": [
    "#1)To calculate the length of a string\n",
    "def calculate_length(input_string):\n",
    "    return len(input_string)\n",
    "input_string=\"Hello world\"\n",
    "print(\"length of a string:\",calculate_length(input_string))"
   ]
  },
  {
   "cell_type": "code",
   "execution_count": 20,
   "id": "a8cc7bb0",
   "metadata": {},
   "outputs": [
    {
     "name": "stdout",
     "output_type": "stream",
     "text": [
      "Reverse words in the string: world Hello\n"
     ]
    }
   ],
   "source": [
    "#2)To reverse words in a string\n",
    "def reverse_words(input_string):\n",
    "    words=input_string.split()\n",
    "    reversed_words=' '.join(reversed(words))\n",
    "    return reversed_words\n",
    "print(\"Reverse words in the string:\", reverse_words(input_string))"
   ]
  },
  {
   "cell_type": "code",
   "execution_count": 25,
   "id": "53e3f577",
   "metadata": {},
   "outputs": [
    {
     "name": "stdout",
     "output_type": "stream",
     "text": [
      "display same string multiple times: Hello worldHello worldHello world\n"
     ]
    }
   ],
   "source": [
    "#3)To display the same string multiple times\n",
    "def repeat_string(input_string, times):\n",
    "    repeated_string=input_string * times\n",
    "    return repeated_string\n",
    "times=3\n",
    "print(\"display same string multiple times:\",repeat_string(input_string, times))"
   ]
  },
  {
   "cell_type": "code",
   "execution_count": 63,
   "id": "9f031c39",
   "metadata": {},
   "outputs": [
    {
     "name": "stdout",
     "output_type": "stream",
     "text": [
      "concatenated strings: Hello, world!\n"
     ]
    }
   ],
   "source": [
    "#4)To concatenate two strings\n",
    "def concatenate_string(str1, str2):\n",
    "    concatenated_string=str1 + str2\n",
    "    return concatenated_string\n",
    "str1 = \"Hello, \"\n",
    "str2 = \"world!\"\n",
    "print(\"concatenated strings:\",concatenate_string(str1, str2))"
   ]
  },
  {
   "cell_type": "code",
   "execution_count": 32,
   "id": "6c0f3670",
   "metadata": {},
   "outputs": [
    {
     "name": "stdout",
     "output_type": "stream",
     "text": [
      "sliced string: India\n"
     ]
    }
   ],
   "source": [
    "#5)str1=\"south india\",using string slicing to display\"india\"\n",
    "str1 = \"South India\"\n",
    "sliced_string = str1[6:]\n",
    "print(\"sliced string:\",sliced_string)"
   ]
  },
  {
   "cell_type": "markdown",
   "id": "ec75fd17",
   "metadata": {},
   "source": [
    "# 6)perform the following"
   ]
  },
  {
   "cell_type": "code",
   "execution_count": 34,
   "id": "cbfbe538",
   "metadata": {},
   "outputs": [
    {
     "name": "stdout",
     "output_type": "stream",
     "text": [
      "{'name': 'john', 'age': '20', 'city': 'dehli'}\n"
     ]
    }
   ],
   "source": [
    "#1)Creating the Dictionary\n",
    "dict = {'name':'john','age':'20','city':'dehli'}\n",
    "print(dict)"
   ]
  },
  {
   "cell_type": "code",
   "execution_count": 37,
   "id": "4ad15ee8",
   "metadata": {},
   "outputs": [
    {
     "name": "stdout",
     "output_type": "stream",
     "text": [
      "john\n"
     ]
    }
   ],
   "source": [
    "#2)Accessing values and keys in the Dictionary\n",
    "name=dict['name']\n",
    "print(name)"
   ]
  },
  {
   "cell_type": "code",
   "execution_count": 38,
   "id": "05d5815b",
   "metadata": {},
   "outputs": [
    {
     "name": "stdout",
     "output_type": "stream",
     "text": [
      "dict_keys(['name', 'age', 'city'])\n"
     ]
    }
   ],
   "source": [
    "keys=dict.keys()\n",
    "print(keys)"
   ]
  },
  {
   "cell_type": "code",
   "execution_count": 40,
   "id": "b1b61e8c",
   "metadata": {},
   "outputs": [
    {
     "name": "stdout",
     "output_type": "stream",
     "text": [
      "dict_values(['john', '20', 'dehli'])\n"
     ]
    }
   ],
   "source": [
    "values=dict.values()\n",
    "print(values)"
   ]
  },
  {
   "cell_type": "code",
   "execution_count": 47,
   "id": "ed1e1679",
   "metadata": {},
   "outputs": [
    {
     "name": "stdout",
     "output_type": "stream",
     "text": [
      "{'name': 'john', 'age': 21, 'city': 'new york', 'country': 'USA'}\n"
     ]
    }
   ],
   "source": [
    "#3)Updating the dictionary using a function\n",
    "dict['age']=21\n",
    "print(dict)"
   ]
  },
  {
   "cell_type": "code",
   "execution_count": 49,
   "id": "0e59d0e9",
   "metadata": {},
   "outputs": [
    {
     "name": "stdout",
     "output_type": "stream",
     "text": [
      "{'name': 'john', 'age': 21, 'city': 'new york', 'country': 'USA'}\n"
     ]
    }
   ],
   "source": [
    "dict.update({'city':'new york','country':'USA'})\n",
    "print(dict)"
   ]
  },
  {
   "cell_type": "code",
   "execution_count": 52,
   "id": "7bf05819",
   "metadata": {
    "scrolled": true
   },
   "outputs": [
    {
     "name": "stdout",
     "output_type": "stream",
     "text": [
      "{}\n"
     ]
    }
   ],
   "source": [
    "#4)Clear and delete the dictionary values\n",
    "dict.clear()\n",
    "print(dict)"
   ]
  },
  {
   "cell_type": "code",
   "execution_count": 55,
   "id": "ae2fdccc",
   "metadata": {},
   "outputs": [
    {
     "name": "stdout",
     "output_type": "stream",
     "text": [
      "<class 'dict'>\n"
     ]
    }
   ],
   "source": [
    "del dict\n",
    "print(dict)"
   ]
  },
  {
   "cell_type": "markdown",
   "id": "1e458e59",
   "metadata": {},
   "source": [
    "# 7)Python program to insert a number to any position in a list\n"
   ]
  },
  {
   "cell_type": "code",
   "execution_count": 56,
   "id": "547ce608",
   "metadata": {},
   "outputs": [
    {
     "name": "stdout",
     "output_type": "stream",
     "text": [
      "updated list: [1, 2, 10, 3, 4, 5]\n"
     ]
    }
   ],
   "source": [
    "list=[1,2,3,4,5]\n",
    "insert1=10\n",
    "position=2\n",
    "list.insert(position,insert1)\n",
    "print(\"updated list:\",list)"
   ]
  },
  {
   "cell_type": "markdown",
   "id": "889bd240",
   "metadata": {},
   "source": [
    "# 8)python program to delete an element from a list by index\n"
   ]
  },
  {
   "cell_type": "code",
   "execution_count": 59,
   "id": "1d916305",
   "metadata": {},
   "outputs": [
    {
     "name": "stdout",
     "output_type": "stream",
     "text": [
      "updated list after deleting element: [10, 20, 40, 50]\n"
     ]
    }
   ],
   "source": [
    "list=[10,20,30,40,50]\n",
    "delete=2\n",
    "if 0 <= delete < len(list):\n",
    "    del list[delete]\n",
    "    print(\"updated list after deleting element:\",list)\n",
    "else:\n",
    "    print(\"index is out of range\")"
   ]
  },
  {
   "cell_type": "markdown",
   "id": "4bab9b40",
   "metadata": {},
   "source": [
    "# 9)write a program to display a number from 1 to 100"
   ]
  },
  {
   "cell_type": "code",
   "execution_count": 60,
   "id": "ef0f78b6",
   "metadata": {},
   "outputs": [
    {
     "name": "stdout",
     "output_type": "stream",
     "text": [
      "1\n",
      "2\n",
      "3\n",
      "4\n",
      "5\n",
      "6\n",
      "7\n",
      "8\n",
      "9\n",
      "10\n",
      "11\n",
      "12\n",
      "13\n",
      "14\n",
      "15\n",
      "16\n",
      "17\n",
      "18\n",
      "19\n",
      "20\n",
      "21\n",
      "22\n",
      "23\n",
      "24\n",
      "25\n",
      "26\n",
      "27\n",
      "28\n",
      "29\n",
      "30\n",
      "31\n",
      "32\n",
      "33\n",
      "34\n",
      "35\n",
      "36\n",
      "37\n",
      "38\n",
      "39\n",
      "40\n",
      "41\n",
      "42\n",
      "43\n",
      "44\n",
      "45\n",
      "46\n",
      "47\n",
      "48\n",
      "49\n",
      "50\n",
      "51\n",
      "52\n",
      "53\n",
      "54\n",
      "55\n",
      "56\n",
      "57\n",
      "58\n",
      "59\n",
      "60\n",
      "61\n",
      "62\n",
      "63\n",
      "64\n",
      "65\n",
      "66\n",
      "67\n",
      "68\n",
      "69\n",
      "70\n",
      "71\n",
      "72\n",
      "73\n",
      "74\n",
      "75\n",
      "76\n",
      "77\n",
      "78\n",
      "79\n",
      "80\n",
      "81\n",
      "82\n",
      "83\n",
      "84\n",
      "85\n",
      "86\n",
      "87\n",
      "88\n",
      "89\n",
      "90\n",
      "91\n",
      "92\n",
      "93\n",
      "94\n",
      "95\n",
      "96\n",
      "97\n",
      "98\n",
      "99\n",
      "100\n"
     ]
    }
   ],
   "source": [
    "for number in range(1,101):\n",
    "    print(number)"
   ]
  },
  {
   "cell_type": "markdown",
   "id": "38c2ebc5",
   "metadata": {},
   "source": [
    "# 10)write a python program to find the sum of all items in a tuple"
   ]
  },
  {
   "cell_type": "code",
   "execution_count": 7,
   "id": "d64de007",
   "metadata": {
    "scrolled": true
   },
   "outputs": [
    {
     "name": "stdout",
     "output_type": "stream",
     "text": [
      "sum of all items in the tuple: 1\n",
      "sum of all items in the tuple: 3\n",
      "sum of all items in the tuple: 6\n",
      "sum of all items in the tuple: 10\n",
      "sum of all items in the tuple: 15\n"
     ]
    }
   ],
   "source": [
    "tuple=(1,2,3,4,5)\n",
    "sum_items=0\n",
    "for item in tuple:\n",
    "    sum_items += item\n",
    "    print(\"sum of all items in the tuple:\",sum_items)"
   ]
  },
  {
   "cell_type": "markdown",
   "id": "7a871b79",
   "metadata": {},
   "source": [
    "# 11Create a dictionary containing three lambda functions square,cube and square root\n",
    "#1)E.g,dict={square':function for squaring,'cube':functon for cube,'squareroot':function for square root}\n",
    "#2)pass the values(input from user)to the functions in the dictionary respectively\n",
    "#3)then add the outputs of each function and print it\n"
   ]
  },
  {
   "cell_type": "code",
   "execution_count": 35,
   "id": "8634b0b7",
   "metadata": {},
   "outputs": [
    {
     "name": "stdout",
     "output_type": "stream",
     "text": [
      "Enter a value for Square: 4\n",
      "Enter a value for Cube: 8\n",
      "Enter a value for Square Root: 2\n",
      "Results:\n",
      "Square: 16.0\n",
      "Cube: 512.0\n",
      "Square Root: 1.4142135623730951\n",
      "Total of all results: 529.4142135623731\n"
     ]
    }
   ],
   "source": [
    "functions = {\n",
    "    'Square': lambda x: x ** 2,\n",
    "    'Cube': lambda x: x ** 3,\n",
    "    'Square Root': lambda x: x ** 0.5,\n",
    "}\n",
    "results = {}\n",
    "for func_name, func in functions.items():\n",
    "    value = float(input(f'Enter a value for {func_name}: '))\n",
    "    results[func_name] = func(value)\n",
    "total = sum(results.values())\n",
    "print('Results:')\n",
    "for func_name, result in results.items():\n",
    "    print(f'{func_name}: {result}')\n",
    "print('Total of all results:', total)\n"
   ]
  },
  {
   "cell_type": "markdown",
   "id": "697e05ad",
   "metadata": {},
   "source": [
    "# 12)A list of words is given. Find the words from the list that have their second character in uppercase.\n",
    "\n",
    "Is=['hello', 'Dear', 'how', 'ARe', 'You']"
   ]
  },
  {
   "cell_type": "code",
   "execution_count": 8,
   "id": "5c08883d",
   "metadata": {},
   "outputs": [
    {
     "name": "stdout",
     "output_type": "stream",
     "text": [
      "['ARe']\n"
     ]
    }
   ],
   "source": [
    "words = ['hello', 'Dear', 'how', 'ARe', 'You']\n",
    "result = []\n",
    "\n",
    "for word in words:\n",
    "    if len(word) > 1 and word[1].isupper():\n",
    "        result.append(word)\n",
    "\n",
    "print(result)"
   ]
  },
  {
   "cell_type": "markdown",
   "id": "ce161528",
   "metadata": {},
   "source": [
    "# 13)A dictionary of names and their weights on earth is given. Find how much they will weigh on the moon. (Use map and lambda functions) Formula: wMoon (wEarth GMoon)/GEarth\n",
    "\n",
    "0 #Weight of people in kg\n",
    "WeightOnEarth = ('John':45, \"Shelly':65, 'Marry':35]\n",
    "#Gravitational force on the Moon: 1.622 m/s2\n",
    "GMoon 1.622\n",
    "#Gravitational force on the Earth: 9.81 m/s2\n",
    "GEarth 9.81"
   ]
  },
  {
   "cell_type": "code",
   "execution_count": 26,
   "id": "882853bc",
   "metadata": {},
   "outputs": [
    {
     "name": "stdout",
     "output_type": "stream",
     "text": [
      "John's weight on the Moon: 7.440366972477065 kg\n",
      "Shelly's weight on the Moon: 10.747196738022426 kg\n",
      "Marry's weight on the Moon: 5.786952089704383 kg\n"
     ]
    }
   ],
   "source": [
    "GMoon = 1.622\n",
    "GEarth = 9.81\n",
    "WeightOnEarth = {'John': 45, 'Shelly': 65, 'Marry': 35}\n",
    "WeightOnMoon = dict(map(lambda item: (item[0], item[1] * GMoon / GEarth), WeightOnEarth.items()))\n",
    "for name, weight_moon in WeightOnMoon.items():\n",
    "    print(f\"{name}'s weight on the Moon: {weight_moon} kg\")"
   ]
  },
  {
   "cell_type": "markdown",
   "id": "a743c3cd",
   "metadata": {},
   "source": [
    "# control statements"
   ]
  },
  {
   "cell_type": "code",
   "execution_count": null,
   "id": "4d4417a6",
   "metadata": {},
   "outputs": [],
   "source": [
    "#1)Write a python program to find the first N prime numbers"
   ]
  },
  {
   "cell_type": "code",
   "execution_count": 33,
   "id": "17c91df6",
   "metadata": {},
   "outputs": [
    {
     "name": "stdout",
     "output_type": "stream",
     "text": [
      "Enter the value of N: 10\n",
      "2\n",
      "3\n",
      "5\n",
      "7\n",
      "11\n",
      "13\n",
      "17\n",
      "19\n",
      "23\n",
      "29\n"
     ]
    }
   ],
   "source": [
    "N = int(input('Enter the value of N: '))\n",
    "count = 0\n",
    "num = 2\n",
    "\n",
    "while count < N:\n",
    "    is_prime = True\n",
    "    for i in range(2, int(num ** 0.5) + 1):\n",
    "        if (num % i) == 0:\n",
    "            is_prime = False\n",
    "            break\n",
    "    if is_prime:\n",
    "        print(num)\n",
    "        count += 1\n",
    "    num += 1\n",
    "            \n",
    "            "
   ]
  },
  {
   "cell_type": "markdown",
   "id": "1b5b00d9",
   "metadata": {},
   "source": [
    "# 2)Write the python code that calculates the salary of an employee. Prompt the user to enter the Basic Salary, HRA, TA, and DA. Add these components to calculate the Gross Salary. Also, deduct 10% of salary from the Gross Salary to be paid as tax and display gross minus tax as net salary."
   ]
  },
  {
   "cell_type": "code",
   "execution_count": 25,
   "id": "86c31ee3",
   "metadata": {},
   "outputs": [
    {
     "name": "stdout",
     "output_type": "stream",
     "text": [
      "Enter Basic Salary: 30000\n",
      "Enter HRA: 20\n",
      "Enter TA: 50\n",
      "Enter DA: 40\n",
      "Gross Salary: 30110.00\n",
      "Tax (10%): 3011.00\n",
      "Net Salary: 27099.00\n"
     ]
    }
   ],
   "source": [
    "basic_salary = float(input(\"Enter Basic Salary: \"))\n",
    "hra = float(input(\"Enter HRA: \"))\n",
    "ta = float(input(\"Enter TA: \"))\n",
    "da = float(input(\"Enter DA: \"))\n",
    "gross_salary = basic_salary + hra + ta + da\n",
    "tax = 0.10 * gross_salary\n",
    "net_salary = gross_salary - tax\n",
    "print(f\"Gross Salary: {gross_salary:.2f}\")\n",
    "print(f\"Tax (10%): {tax:.2f}\")\n",
    "print(f\"Net Salary: {net_salary:.2f}\")"
   ]
  },
  {
   "cell_type": "markdown",
   "id": "2b130bed",
   "metadata": {},
   "source": [
    "# 3)write a python program to search for a string in the given list"
   ]
  },
  {
   "cell_type": "code",
   "execution_count": 4,
   "id": "b168dd17",
   "metadata": {},
   "outputs": [
    {
     "name": "stdout",
     "output_type": "stream",
     "text": [
      "the string 'an' was found at indices: [1]\n"
     ]
    }
   ],
   "source": [
    "def search_string_in_list(input_list,search_string):\n",
    "    return[index for index,item in enumerate(input_list) if search_string in item]\n",
    "my_list=[\"apple\",\"banana\",\"kiwi\",\"cherry\",\"date\"]\n",
    "search_string=\"an\"\n",
    "result=search_string_in_list(my_list,search_string)\n",
    "if result:\n",
    "    print(f\"the string '{search_string}' was found at indices: {result}\")\n",
    "else:\n",
    "    print(f\"the string '{search_string}' was not found in the list\")\n",
    "    "
   ]
  },
  {
   "cell_type": "markdown",
   "id": "00c2fcf5",
   "metadata": {},
   "source": [
    "# 4)write a python function that accepts a string and calculates the number of upper-case letters and lower-case letters."
   ]
  },
  {
   "cell_type": "code",
   "execution_count": 3,
   "id": "a3ddb17b",
   "metadata": {},
   "outputs": [
    {
     "name": "stdout",
     "output_type": "stream",
     "text": [
      "Enter a string:Hello World\n",
      "Uppercase letters: 2\n",
      "Lowercase letters: 8\n"
     ]
    }
   ],
   "source": [
    "def count_upper_lower_letters(input_string):\n",
    "    upper_count = 0\n",
    "    lower_count = 0\n",
    "    for char in input_string:\n",
    "        if char.isupper():\n",
    "            upper_count += 1\n",
    "        elif char.islower():\n",
    "            lower_count += 1\n",
    "    return upper_count, lower_count\n",
    "input_str = input(\"Enter a string:\")\n",
    "upper_count,lower_count = count_upper_lower_letters(input_str)\n",
    "print(\"Uppercase letters:\", upper_count)\n",
    "print(\"Lowercase letters:\", lower_count)"
   ]
  },
  {
   "cell_type": "markdown",
   "id": "b43ec848",
   "metadata": {},
   "source": [
    "# 5)write a program to display the sum of odd numbers and even numbers that fall between 12 and 37"
   ]
  },
  {
   "cell_type": "code",
   "execution_count": 8,
   "id": "006854d0",
   "metadata": {},
   "outputs": [
    {
     "name": "stdout",
     "output_type": "stream",
     "text": [
      "Sum of even numbers: 312\n",
      "Sum of odd numbers: 325\n"
     ]
    }
   ],
   "source": [
    "sum_odd = 0\n",
    "sum_even = 0\n",
    "for num in range(12, 38):\n",
    "    if num % 2 == 0:\n",
    "        sum_even += num\n",
    "    else:\n",
    "        sum_odd += num\n",
    "print(\"Sum of even numbers:\", sum_even)\n",
    "print(\"Sum of odd numbers:\", sum_odd)"
   ]
  },
  {
   "cell_type": "markdown",
   "id": "703ac78f",
   "metadata": {},
   "source": [
    "# 6)write a python to print the table of any number"
   ]
  },
  {
   "cell_type": "code",
   "execution_count": 2,
   "id": "fcc5a6da",
   "metadata": {},
   "outputs": [
    {
     "name": "stdout",
     "output_type": "stream",
     "text": [
      "Enter a number: 5\n",
      "Multiplication Tables for 5:\n",
      "5 x 1 = 5\n",
      "5 x 2 = 10\n",
      "5 x 3 = 15\n",
      "5 x 4 = 20\n",
      "5 x 5 = 25\n",
      "5 x 6 = 30\n",
      "5 x 7 = 35\n",
      "5 x 8 = 40\n",
      "5 x 9 = 45\n",
      "5 x 10 = 50\n"
     ]
    }
   ],
   "source": [
    "number = int(input(\"Enter a number: \"))\n",
    "print(f\"Multiplication Tables for {number}:\")\n",
    "for i in range(1, 11):\n",
    "    product = number * i\n",
    "    print(f\"{number} x {i} = {product}\")"
   ]
  },
  {
   "cell_type": "markdown",
   "id": "43ce3384",
   "metadata": {},
   "source": [
    "# 7)write a python program to sum the first 10 prime numbers"
   ]
  },
  {
   "cell_type": "code",
   "execution_count": 1,
   "id": "1865fd02",
   "metadata": {},
   "outputs": [
    {
     "name": "stdout",
     "output_type": "stream",
     "text": [
      "The sum of the first 10 prime numbers is: 129\n"
     ]
    }
   ],
   "source": [
    "def is_prime(n):\n",
    "    if n <= 1:\n",
    "        return False\n",
    "    if n <= 3:\n",
    "        return True\n",
    "    if n % 2 == 0 or n % 3 == 0:\n",
    "        return False\n",
    "    i = 5\n",
    "    while i * i <= n:\n",
    "        if n % i == 0 or n % (i + 2) == 0:\n",
    "            return False\n",
    "        i += 6\n",
    "    return True\n",
    "\n",
    "def sum_first_n_primes(n):\n",
    "    prime_sum = 0\n",
    "    count = 0\n",
    "    num = 2  \n",
    "    while count < n:\n",
    "        if is_prime(num):\n",
    "            prime_sum += num\n",
    "            count += 1\n",
    "        num += 1\n",
    "    return prime_sum\n",
    "\n",
    "n = 10\n",
    "result = sum_first_n_primes(n)\n",
    "print(f\"The sum of the first {n} prime numbers is: {result}\")"
   ]
  },
  {
   "cell_type": "markdown",
   "id": "99b13627",
   "metadata": {},
   "source": [
    "# 8)Write a python program to implement arithmetic operations using nested if statement."
   ]
  },
  {
   "cell_type": "code",
   "execution_count": 9,
   "id": "7c60c6a9",
   "metadata": {},
   "outputs": [
    {
     "name": "stdout",
     "output_type": "stream",
     "text": [
      "Enter first number: 10\n",
      "Enter second number: 20\n",
      "Enter operation (+, -, *, /): +\n",
      "10.0 + 20.0 = 30.0\n"
     ]
    }
   ],
   "source": [
    "num1 = float(input(\"Enter first number: \"))\n",
    "num2 = float(input(\"Enter second number: \"))\n",
    "operation = input(\"Enter operation (+, -, *, /): \")\n",
    "if operation == '+':\n",
    "    result = num1 + num2\n",
    "    print(f\"{num1} + {num2} = {result}\")\n",
    "elif operation == '-':\n",
    "    result = num1 - num2\n",
    "    print(f\"{num1} - {num2} = {result}\")\n",
    "elif operation == '*':\n",
    "    result = num1 * num2\n",
    "    print(f\"{num1} * {num2} = {result}\")\n",
    "elif operation == '/':\n",
    "    if num2 == 0:\n",
    "        print(\"Division by zero is not allowed.\")\n",
    "    else:\n",
    "        result = num1 / num2\n",
    "        print(f\"{num1} / {num2} = {result}\")\n",
    "else:\n",
    "    print(\"Invalid operation. Please enter +, -, *, or /.\")"
   ]
  },
  {
   "cell_type": "markdown",
   "id": "0c07347c",
   "metadata": {},
   "source": [
    "# 9)Write a python program to take the temperature in Celsius and convert it to a Fahrenheit."
   ]
  },
  {
   "cell_type": "code",
   "execution_count": 10,
   "id": "5634bc2f",
   "metadata": {},
   "outputs": [
    {
     "name": "stdout",
     "output_type": "stream",
     "text": [
      "Enter temperature in Celsius: 100\n",
      "100.0 degrees Celsius is equal to 212.0 degrees Fahrenheit\n"
     ]
    }
   ],
   "source": [
    "celsius = float(input(\"Enter temperature in Celsius: \"))\n",
    "fahrenheit = (celsius * 9/5) + 32\n",
    "print(f\"{celsius} degrees Celsius is equal to {fahrenheit} degrees Fahrenheit\")"
   ]
  },
  {
   "cell_type": "markdown",
   "id": "2187591f",
   "metadata": {},
   "source": [
    "# 10)Write a python program to find a maximum and minimum number in a list without using aninbuilt function"
   ]
  },
  {
   "cell_type": "code",
   "execution_count": 11,
   "id": "8b5372cc",
   "metadata": {},
   "outputs": [
    {
     "name": "stdout",
     "output_type": "stream",
     "text": [
      "Maximum value: 89\n",
      "Minimum value: 2\n"
     ]
    }
   ],
   "source": [
    "def find_max_min(numbers):\n",
    "    if len(numbers) == 0:\n",
    "        return None, None\n",
    "\n",
    "    max_num = min_num = numbers[0]  \n",
    "\n",
    "    for num in numbers:\n",
    "        if num > max_num:\n",
    "            max_num = num\n",
    "        elif num < min_num:\n",
    "            min_num = num\n",
    "\n",
    "    return max_num, min_num\n",
    "numbers = [12, 45, 6, 89, 32, 56, 78, 2, 10]\n",
    "max_value, min_value = find_max_min(numbers)\n",
    "print(f\"Maximum value: {max_value}\")\n",
    "print(f\"Minimum value: {min_value}\")"
   ]
  },
  {
   "cell_type": "markdown",
   "id": "9f9de5ec",
   "metadata": {},
   "source": [
    "# 11)Write a program in python to print out the number of seconds in 30-day month 30 days, 24 hours in a day, 60 minutes per day, 60 seconds in a minute."
   ]
  },
  {
   "cell_type": "code",
   "execution_count": 12,
   "id": "44f49593",
   "metadata": {},
   "outputs": [
    {
     "name": "stdout",
     "output_type": "stream",
     "text": [
      "Number of seconds in a 30-day month: 2592000\n"
     ]
    }
   ],
   "source": [
    "days_in_month = 30\n",
    "hours_in_day = 24\n",
    "minutes_in_hour = 60\n",
    "seconds_in_minute = 60\n",
    "seconds_in_30_days = days_in_month * hours_in_day * minutes_in_hour * seconds_in_minute\n",
    "print(\"Number of seconds in a 30-day month:\", seconds_in_30_days)"
   ]
  },
  {
   "cell_type": "markdown",
   "id": "35909958",
   "metadata": {},
   "source": [
    "# 12)Write a program in python to print out the number of seconds in a year."
   ]
  },
  {
   "cell_type": "code",
   "execution_count": 13,
   "id": "a58afce8",
   "metadata": {},
   "outputs": [
    {
     "name": "stdout",
     "output_type": "stream",
     "text": [
      "Number of seconds in a year (non-leap year): 31536000\n"
     ]
    }
   ],
   "source": [
    "days_in_year = 365\n",
    "hours_in_day = 24\n",
    "minutes_in_hour = 60\n",
    "seconds_in_minute = 60\n",
    "seconds_in_year = days_in_year * hours_in_day * minutes_in_hour * seconds_in_minute\n",
    "print(\"Number of seconds in a year (non-leap year):\", seconds_in_year)"
   ]
  },
  {
   "cell_type": "markdown",
   "id": "a072f19e",
   "metadata": {},
   "source": [
    "# 13)A high-speed train can travel at an average speed of 150 mph, how long will it take a train,travelling at this speed to travel from London to Glasgow which is 414 miles away?"
   ]
  },
  {
   "cell_type": "code",
   "execution_count": 17,
   "id": "bbb31641",
   "metadata": {},
   "outputs": [
    {
     "name": "stdout",
     "output_type": "stream",
     "text": [
      "It will take 2.76 hours to travel from London to Glasgow at an average speed of 150 mph.\n"
     ]
    }
   ],
   "source": [
    "average_speed = 150\n",
    "distance = 414\n",
    "time_hours = distance / average_speed\n",
    "print(\"It will take\", time_hours, \"hours to travel from London to Glasgow at an average speed of 150 mph.\")"
   ]
  },
  {
   "cell_type": "markdown",
   "id": "2404de9d",
   "metadata": {},
   "source": [
    " # 14)Write a python program that defines a variable called days_in_each_school_year and assign 192 to the variable. The program should then print out the total hours that you spend in school from year 7 to year 11, if each day you spend 6 hours in school days_in_each_school_year = 192"
   ]
  },
  {
   "cell_type": "code",
   "execution_count": 16,
   "id": "18c7536d",
   "metadata": {},
   "outputs": [
    {
     "name": "stdout",
     "output_type": "stream",
     "text": [
      "Total hours spent in school from year 7 to year 11: 960\n"
     ]
    }
   ],
   "source": [
    "days_in_each_school_year = 192\n",
    "total_hours_in_school = days_in_each_school_year * 5  \n",
    "print(\"Total hours spent in school from year 7 to year 11:\", total_hours_in_school)"
   ]
  },
  {
   "cell_type": "markdown",
   "id": "80e4c5bb",
   "metadata": {},
   "source": [
    "# 15) If the age of Ram,Sam and Khan are input through the keyboard,write a python program to determine the eldest and youngest of the three."
   ]
  },
  {
   "cell_type": "code",
   "execution_count": 18,
   "id": "9e3f9e2f",
   "metadata": {},
   "outputs": [
    {
     "name": "stdout",
     "output_type": "stream",
     "text": [
      "Enter Ram's age: 10\n",
      "Enter Sam's age: 20\n",
      "Enter Khan's age: 30\n",
      "The eldest among Ram, Sam, and Khan is Khan.\n",
      "The youngest among Ram, Sam, and Khan is Ram.\n"
     ]
    }
   ],
   "source": [
    "ram_age = int(input(\"Enter Ram's age: \"))\n",
    "sam_age = int(input(\"Enter Sam's age: \"))\n",
    "khan_age = int(input(\"Enter Khan's age: \"))\n",
    "eldest = \"Ram\"\n",
    "youngest = \"Ram\"\n",
    "if sam_age > ram_age:\n",
    "    eldest = \"Sam\"\n",
    "    youngest = \"Ram\"\n",
    "elif sam_age < ram_age:\n",
    "    youngest = \"Sam\"\n",
    "\n",
    "if khan_age > sam_age:\n",
    "    eldest = \"Khan\"\n",
    "elif khan_age < sam_age:\n",
    "    youngest = \"Khan\"\n",
    "print(f\"The eldest among Ram, Sam, and Khan is {eldest}.\")\n",
    "print(f\"The youngest among Ram, Sam, and Khan is {youngest}.\")"
   ]
  },
  {
   "cell_type": "markdown",
   "id": "9978c80f",
   "metadata": {},
   "source": [
    "# 16)Write a python program to rotate a list by right n times with and without slicing technique."
   ]
  },
  {
   "cell_type": "code",
   "execution_count": 19,
   "id": "b4697d18",
   "metadata": {},
   "outputs": [
    {
     "name": "stdout",
     "output_type": "stream",
     "text": [
      "[4, 5, 1, 2, 3]\n"
     ]
    }
   ],
   "source": [
    "def rotate_list_right_with_slicing(lst, n):\n",
    "    n = n % len(lst)  # Ensure n is within the range of list length\n",
    "    rotated_list = lst[-n:] + lst[:-n]\n",
    "    return rotated_list\n",
    "my_list = [1, 2, 3, 4, 5]\n",
    "n = 2\n",
    "rotated_list = rotate_list_right_with_slicing(my_list, n)\n",
    "print(rotated_list)"
   ]
  },
  {
   "cell_type": "code",
   "execution_count": 20,
   "id": "2cd00da1",
   "metadata": {},
   "outputs": [
    {
     "name": "stdout",
     "output_type": "stream",
     "text": [
      "[4, 5, 1, 2, 3]\n"
     ]
    }
   ],
   "source": [
    "def rotate_list_right_without_slicing(lst, n):\n",
    "    n = n % len(lst)  # Ensure n is within the range of list length\n",
    "    rotated_list = []\n",
    "    for i in range(len(lst)):\n",
    "        rotated_list.append(lst[(i - n) % len(lst)])\n",
    "    return rotated_list\n",
    "my_list = [1, 2, 3, 4, 5]\n",
    "n = 2\n",
    "rotated_list = rotate_list_right_without_slicing(my_list, n)\n",
    "print(rotated_list)"
   ]
  },
  {
   "cell_type": "markdown",
   "id": "5cb24970",
   "metadata": {},
   "source": [
    "# 17)Python program to print the patters given below"
   ]
  },
  {
   "cell_type": "code",
   "execution_count": 30,
   "id": "d5c61cb4",
   "metadata": {},
   "outputs": [
    {
     "name": "stdout",
     "output_type": "stream",
     "text": [
      "1 \n",
      "1 1 \n",
      "1 2 1 \n",
      "1 3 3 1 \n",
      "1 4 6 4 1 \n",
      "1 5 10 10 5 1 \n",
      "1 6 15 20 15 6 1 \n"
     ]
    }
   ],
   "source": [
    "#pattern 1\n",
    "def print_triangle(size):\n",
    "    for i in range(0, size):\n",
    "        for j in range(0, i+1):\n",
    "            print(decide_number(i,j),end=' ')\n",
    "        print()\n",
    "def decide_number(n,k):\n",
    "    num =1\n",
    "    if k>n-k:\n",
    "        k=n-k\n",
    "    for i in range(0,k):\n",
    "        num=num*(n-i)\n",
    "        num=num//(i+1)\n",
    "    return num\n",
    "rows=7\n",
    "print_triangle(rows)\n",
    "\n"
   ]
  },
  {
   "cell_type": "code",
   "execution_count": 23,
   "id": "e0aae253",
   "metadata": {},
   "outputs": [
    {
     "name": "stdout",
     "output_type": "stream",
     "text": [
      "*\n",
      "**\n",
      "***\n",
      "****\n",
      "*****\n"
     ]
    }
   ],
   "source": [
    "#pattern 2\n",
    "n= 5\n",
    "for i in range(1, n + 1):\n",
    "    print('*' * i)"
   ]
  },
  {
   "cell_type": "code",
   "execution_count": 31,
   "id": "62b5e3f1",
   "metadata": {},
   "outputs": [
    {
     "name": "stdout",
     "output_type": "stream",
     "text": [
      "7\n",
      "      * \n",
      "     * * \n",
      "    * * * \n",
      "   * * * * \n",
      "  * * * * * \n",
      " * * * * * * \n",
      "* * * * * * * \n"
     ]
    }
   ],
   "source": [
    "#3)pattern3\n",
    "n = int(input())\n",
    "k = n-1\n",
    "for i in range(0,n):\n",
    "  for j in range(0,k):\n",
    "    print(end=\" \")\n",
    "  k=k-1\n",
    "  for j in range(0,i+1):\n",
    "    print(\"* \",end=\"\")\n",
    "  print(\"\\r\")\n"
   ]
  },
  {
   "cell_type": "markdown",
   "id": "89f5be2a",
   "metadata": {},
   "source": [
    "# python program to print the patters given below"
   ]
  },
  {
   "cell_type": "code",
   "execution_count": 24,
   "id": "4789cc68",
   "metadata": {},
   "outputs": [
    {
     "name": "stdout",
     "output_type": "stream",
     "text": [
      "p\n",
      "py\n",
      "pyt\n",
      "pyth\n",
      "pytho\n",
      "python\n"
     ]
    }
   ],
   "source": [
    "#pattern 4\n",
    "word = \"python\"\n",
    "for i in range(1, len(word) + 1):\n",
    "    print(word[:i])"
   ]
  },
  {
   "cell_type": "code",
   "execution_count": null,
   "id": "71a9dcdd",
   "metadata": {},
   "outputs": [],
   "source": []
  }
 ],
 "metadata": {
  "kernelspec": {
   "display_name": "Python 3 (ipykernel)",
   "language": "python",
   "name": "python3"
  },
  "language_info": {
   "codemirror_mode": {
    "name": "ipython",
    "version": 3
   },
   "file_extension": ".py",
   "mimetype": "text/x-python",
   "name": "python",
   "nbconvert_exporter": "python",
   "pygments_lexer": "ipython3",
   "version": "3.11.4"
  }
 },
 "nbformat": 4,
 "nbformat_minor": 5
}
