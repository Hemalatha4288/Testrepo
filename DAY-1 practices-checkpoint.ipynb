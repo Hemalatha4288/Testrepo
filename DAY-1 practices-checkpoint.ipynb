{
 "cells": [
  {
   "cell_type": "markdown",
   "id": "54106cfb",
   "metadata": {},
   "source": [
    "# 1.manipulate using a list"
   ]
  },
  {
   "cell_type": "code",
   "execution_count": 2,
   "id": "e09a066b",
   "metadata": {},
   "outputs": [
    {
     "data": {
      "text/plain": [
       "[23, 3, 'python']"
      ]
     },
     "execution_count": 2,
     "metadata": {},
     "output_type": "execute_result"
    }
   ],
   "source": [
    "list=[23,3,'python']\n",
    "list"
   ]
  },
  {
   "cell_type": "code",
   "execution_count": 3,
   "id": "46408da7",
   "metadata": {},
   "outputs": [
    {
     "data": {
      "text/plain": [
       "[23, 3, 'python', 23456]"
      ]
     },
     "execution_count": 3,
     "metadata": {},
     "output_type": "execute_result"
    }
   ],
   "source": [
    "#To add new elements to the end of the list\n",
    "\n",
    "list.append(23456)\n",
    "list"
   ]
  },
  {
   "cell_type": "code",
   "execution_count": 8,
   "id": "00f75ab0",
   "metadata": {},
   "outputs": [
    {
     "name": "stdout",
     "output_type": "stream",
     "text": [
      "Reversed list: \n",
      "\n",
      " [23, 3, 'python', 23456]\n"
     ]
    }
   ],
   "source": [
    "#To reverse elements in the list\n",
    "list.reverse()\n",
    "print('Reversed list: \\n\\n',list)"
   ]
  },
  {
   "cell_type": "code",
   "execution_count": 10,
   "id": "7eac5694",
   "metadata": {},
   "outputs": [
    {
     "name": "stdout",
     "output_type": "stream",
     "text": [
      "list of elements multiple times: \n",
      "\n",
      " [23, 3, 'python', 23456, 23, 3, 'python', 23456, 23, 3, 'python', 23456, 23, 3, 'python', 23456, 23, 3, 'python', 23456]\n"
     ]
    }
   ],
   "source": [
    "#To display the same list of elements multiple times.\n",
    "list*5\n",
    "print('list of elements multiple times: \\n\\n',list*5)\n"
   ]
  },
  {
   "cell_type": "code",
   "execution_count": 11,
   "id": "fc212f26",
   "metadata": {},
   "outputs": [
    {
     "name": "stdout",
     "output_type": "stream",
     "text": [
      "concatenate+:[1, 2, 3, 4, 5, 6]\n"
     ]
    }
   ],
   "source": [
    "#To concatenate two list\n",
    "list1=[1,2,3]\n",
    "list2=[4,5,6]\n",
    "list3=list1+list2\n",
    "print(\"concatenate+:\"+str(list3))\n"
   ]
  },
  {
   "cell_type": "code",
   "execution_count": 20,
   "id": "fb23b87a",
   "metadata": {},
   "outputs": [
    {
     "name": "stdout",
     "output_type": "stream",
     "text": [
      "[10, 20, 30, 40, 50]\n"
     ]
    }
   ],
   "source": [
    "#To sort the elements in the list in ascending order\n",
    "list=[40,30,10,50,20]\n",
    "list.sort()\n",
    "print(list)"
   ]
  },
  {
   "cell_type": "markdown",
   "id": "8b4dd420",
   "metadata": {},
   "source": [
    "# 2 write a python to do in the tuples"
   ]
  },
  {
   "cell_type": "code",
   "execution_count": 45,
   "id": "61cb129a",
   "metadata": {},
   "outputs": [
    {
     "name": "stdout",
     "output_type": "stream",
     "text": [
      "manipulate using tuples: (1, 2, 3, 4, 5, 6, 7, 8)\n"
     ]
    }
   ],
   "source": [
    "#1)Manipulate using tuples\n",
    "tuple=(1,2,3,4,5)\n",
    "tuple1=tuple+(6,7,8)\n",
    "print(\"manipulate using tuples:\",tuple1)\n"
   ]
  },
  {
   "cell_type": "code",
   "execution_count": 46,
   "id": "69107617",
   "metadata": {},
   "outputs": [
    {
     "name": "stdout",
     "output_type": "stream",
     "text": [
      "Add new elements: (1, 2, 3, 4, 5, 6, 7, 8)\n"
     ]
    }
   ],
   "source": [
    "#2)To add new elements to the end of the tuples\n",
    "tuple +=(6,7,8)\n",
    "print(\"Add new elements:\",tuple)"
   ]
  },
  {
   "cell_type": "code",
   "execution_count": 74,
   "id": "e8d2616c",
   "metadata": {},
   "outputs": [
    {
     "name": "stdout",
     "output_type": "stream",
     "text": [
      "[1, 2, 3, 4, 5]\n",
      "<built-in method reverse of list object at 0x00000246B7C00DC0>\n"
     ]
    }
   ],
   "source": [
    "#3)To reverse elements in the list\n",
    "l=[1,2,3,4,5]\n",
    "l.reverse\n",
    "print(l)\n",
    "print(l.reverse)"
   ]
  },
  {
   "cell_type": "code",
   "execution_count": 60,
   "id": "29c602d9",
   "metadata": {},
   "outputs": [
    {
     "name": "stdout",
     "output_type": "stream",
     "text": [
      "display elements multiple times: (5, 3, 1, 4, 2, 5, 3, 1, 4, 2, 5, 3, 1, 4, 2)\n"
     ]
    }
   ],
   "source": [
    "#4)to display the elements of the same tuple multiple times\n",
    "tuple1=tuple*3\n",
    "print(\"display elements multiple times:\",tuple1)\n"
   ]
  },
  {
   "cell_type": "code",
   "execution_count": 54,
   "id": "928e8d75",
   "metadata": {},
   "outputs": [
    {
     "name": "stdout",
     "output_type": "stream",
     "text": [
      "concatenate two tuples: (1, 2, 3, 4, 5, 6)\n"
     ]
    }
   ],
   "source": [
    "#5)To concatenate two tuples\n",
    "tuple1=(1,2,3)\n",
    "tuple2=(4,5,6)\n",
    "tuple3=tuple1+tuple2\n",
    "print(\"concatenate two tuples:\",tuple3)"
   ]
  },
  {
   "cell_type": "code",
   "execution_count": 72,
   "id": "984458d0",
   "metadata": {},
   "outputs": [
    {
     "name": "stdout",
     "output_type": "stream",
     "text": [
      "[2, 4, 6, 6]\n"
     ]
    }
   ],
   "source": [
    "#6)To sort the elements in the list in ascending order\n",
    "tuples=[2,6,4,6]\n",
    "tuples=sorted(tuples)\n",
    "print(tuples)"
   ]
  },
  {
   "cell_type": "markdown",
   "id": "be8c1c84",
   "metadata": {},
   "source": [
    "# 3)Write a program to implement the following using list"
   ]
  },
  {
   "cell_type": "code",
   "execution_count": 36,
   "id": "baa20ec9",
   "metadata": {},
   "outputs": [
    {
     "data": {
      "text/plain": [
       "tuple"
      ]
     },
     "execution_count": 36,
     "metadata": {},
     "output_type": "execute_result"
    }
   ],
   "source": [
    "#1)Create a list with integers(minimum 10 numbers)\n",
    "list=[1,2,3,4,5,6,7,8,9,10]"
   ]
  },
  {
   "cell_type": "code",
   "execution_count": 75,
   "id": "85048be3",
   "metadata": {},
   "outputs": [
    {
     "name": "stdout",
     "output_type": "stream",
     "text": [
      "last number in the list: 11\n"
     ]
    }
   ],
   "source": [
    "#2)How to display the last number in the list\n",
    "l_number=list[-1]\n",
    "print(\"last number in the list:\",l_number)"
   ]
  },
  {
   "cell_type": "code",
   "execution_count": 76,
   "id": "da28fef0",
   "metadata": {},
   "outputs": [
    {
     "name": "stdout",
     "output_type": "stream",
     "text": [
      "values from index 0 to 3: [10, 20, 30, 40]\n"
     ]
    }
   ],
   "source": [
    "#3)command for displaying the values from the list[0:4]\n",
    "subset_0_to_4=list[0:4]\n",
    "print(\"values from index 0 to 3:\",subset_0_to_4)"
   ]
  },
  {
   "cell_type": "code",
   "execution_count": 77,
   "id": "d4e8e46c",
   "metadata": {},
   "outputs": [
    {
     "name": "stdout",
     "output_type": "stream",
     "text": [
      "values from index 2 onwards: [30, 40, 50, 11, 11]\n"
     ]
    }
   ],
   "source": [
    "#4)command for displaying the values from the list[2:]\n",
    "subset_from_2_onwards=list[2:]\n",
    "print(\"values from index 2 onwards:\",subset_from_2_onwards)"
   ]
  },
  {
   "cell_type": "code",
   "execution_count": 78,
   "id": "462bd34e",
   "metadata": {},
   "outputs": [
    {
     "name": "stdout",
     "output_type": "stream",
     "text": [
      "values up to index 5: [10, 20, 30, 40, 50, 11]\n"
     ]
    }
   ],
   "source": [
    "#5)command for displaying the values from the list[:6]\n",
    "subset_up_to_6=list[:6]\n",
    "print(\"values up to index 5:\",subset_up_to_6)"
   ]
  },
  {
   "cell_type": "markdown",
   "id": "e3fa6b2c",
   "metadata": {},
   "source": [
    "# 4)write a python:tuple1=(10,50,20,40,30)"
   ]
  },
  {
   "cell_type": "code",
   "execution_count": 79,
   "id": "212d1f6a",
   "metadata": {},
   "outputs": [
    {
     "name": "stdout",
     "output_type": "stream",
     "text": [
      "elements 10 and 50 from tuple1: 10 50\n"
     ]
    }
   ],
   "source": [
    "#1)to display the elements 10 and 50 from tuple1\n",
    "tuple1=(10,50,20,40,30)\n",
    "print(\"elements 10 and 50 from tuple1:\",tuple1[0],tuple1[1])"
   ]
  },
  {
   "cell_type": "code",
   "execution_count": 80,
   "id": "f31a1d25",
   "metadata": {},
   "outputs": [
    {
     "name": "stdout",
     "output_type": "stream",
     "text": [
      "length of a tuple1: 5\n"
     ]
    }
   ],
   "source": [
    "#2)To display the length of a tuple1\n",
    "print(\"length of a tuple1:\",len(tuple1))"
   ]
  },
  {
   "cell_type": "code",
   "execution_count": 81,
   "id": "9b086d58",
   "metadata": {},
   "outputs": [
    {
     "name": "stdout",
     "output_type": "stream",
     "text": [
      "minimum element from tuple1: 10\n"
     ]
    }
   ],
   "source": [
    "#3)to find the minimum element from tuple1\n",
    "min_element=min(tuple1)\n",
    "print(\"minimum element from tuple1:\",min_element)"
   ]
  },
  {
   "cell_type": "code",
   "execution_count": 82,
   "id": "b07b1b17",
   "metadata": {},
   "outputs": [
    {
     "name": "stdout",
     "output_type": "stream",
     "text": [
      "sum of elements in tuple1: 150\n"
     ]
    }
   ],
   "source": [
    "#4)to add all elements in the tuple1\n",
    "sum_elements=sum(tuple1)\n",
    "print(\"sum of elements in tuple1:\",sum_elements)"
   ]
  },
  {
   "cell_type": "code",
   "execution_count": 85,
   "id": "e0c48399",
   "metadata": {},
   "outputs": [
    {
     "name": "stdout",
     "output_type": "stream",
     "text": [
      "tuple1 repeated 3 times: (10, 50, 20, 40, 30, 10, 50, 20, 40, 30, 10, 50, 20, 40, 30)\n"
     ]
    }
   ],
   "source": [
    "#5)To display the same tuple1 multiple times\n",
    "n=3\n",
    "tuple1_multiple = tuple1 * n\n",
    "print(\"tuple1 repeated\", n, \"times:\", tuple1_multiple)"
   ]
  },
  {
   "cell_type": "markdown",
   "id": "1ac46cae",
   "metadata": {},
   "source": [
    "# 5)write a python program:"
   ]
  },
  {
   "cell_type": "code",
   "execution_count": null,
   "id": "41d5c928",
   "metadata": {},
   "outputs": [],
   "source": []
  },
  {
   "cell_type": "code",
   "execution_count": null,
   "id": "0fcaaff0",
   "metadata": {},
   "outputs": [],
   "source": []
  },
  {
   "cell_type": "code",
   "execution_count": null,
   "id": "5c9fc921",
   "metadata": {},
   "outputs": [],
   "source": []
  },
  {
   "cell_type": "code",
   "execution_count": null,
   "id": "5cbd73ff",
   "metadata": {},
   "outputs": [],
   "source": []
  },
  {
   "cell_type": "code",
   "execution_count": null,
   "id": "f81319db",
   "metadata": {},
   "outputs": [],
   "source": []
  },
  {
   "cell_type": "code",
   "execution_count": null,
   "id": "c2b2d6ca",
   "metadata": {},
   "outputs": [],
   "source": []
  },
  {
   "cell_type": "code",
   "execution_count": null,
   "id": "44ce1969",
   "metadata": {},
   "outputs": [],
   "source": []
  },
  {
   "cell_type": "code",
   "execution_count": null,
   "id": "d15f70d6",
   "metadata": {},
   "outputs": [],
   "source": []
  },
  {
   "cell_type": "code",
   "execution_count": null,
   "id": "490bc76b",
   "metadata": {},
   "outputs": [],
   "source": []
  }
 ],
 "metadata": {
  "kernelspec": {
   "display_name": "Python 3 (ipykernel)",
   "language": "python",
   "name": "python3"
  },
  "language_info": {
   "codemirror_mode": {
    "name": "ipython",
    "version": 3
   },
   "file_extension": ".py",
   "mimetype": "text/x-python",
   "name": "python",
   "nbconvert_exporter": "python",
   "pygments_lexer": "ipython3",
   "version": "3.11.4"
  }
 },
 "nbformat": 4,
 "nbformat_minor": 5
}
