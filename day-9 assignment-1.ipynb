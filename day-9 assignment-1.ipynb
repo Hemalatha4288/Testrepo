{
 "cells": [
  {
   "cell_type": "code",
   "execution_count": 4,
   "id": "5c26274c",
   "metadata": {},
   "outputs": [
    {
     "name": "stdout",
     "output_type": "stream",
     "text": [
      "Country with the maximum gold: US\n",
      "Countries with more than 20 gold medals: ['gbr' 'Chine' 'RUS' 'US']\n",
      "gbr: 29 gold medals\n",
      "Chine: 38 gold medals\n",
      "RUS: 24 gold medals\n",
      "US: 46 gold medals\n",
      "KOR: 13 gold medals\n",
      "JPN: 7 gold medals\n",
      "GER: 11 gold medals\n",
      "gbr: 65 total medals\n",
      "Chine: 88 total medals\n",
      "RUS: 72 total medals\n",
      "US: 103 total medals\n",
      "KOR: 28 total medals\n",
      "JPN: 38 total medals\n",
      "GER: 36 total medals\n"
     ]
    }
   ],
   "source": [
    "import numpy as np\n",
    "\n",
    "# Define the arrays\n",
    "np_olympic_country = np.array(['gbr', 'Chine', 'RUS', 'US', 'KOR', 'JPN', 'GER'])\n",
    "np_olympic_country_gold = np.array([29, 38, 24, 46, 13, 7, 11])\n",
    "np_olympic_country_silver = np.array([17, 28, 25, 28, 8, 14, 11])\n",
    "np_olympic_country_bronze = np.array([19, 22, 23, 29, 7, 17, 14])\n",
    "# 1. Find the country index with the maximum gold\n",
    "max_gold_index = np.argmax(np_olympic_country_gold)\n",
    "\n",
    "# 2. Print the country with the maximum gold\n",
    "country_with_max_gold = np_olympic_country[max_gold_index]\n",
    "print(\"Country with the maximum gold:\", country_with_max_gold)\n",
    "\n",
    "# 3. Find countries with more than 20 gold medals\n",
    "countries_with_more_than_20_gold = np_olympic_country[np_olympic_country_gold > 20]\n",
    "print(\"Countries with more than 20 gold medals:\", countries_with_more_than_20_gold)\n",
    "\n",
    "# 4a. Print each country with the number of gold medals\n",
    "for country, gold_medals in zip(np_olympic_country, np_olympic_country_gold):\n",
    "    print(f\"{country}: {gold_medals} gold medals\")\n",
    "\n",
    "# 4b. Print each country with the total number of medals\n",
    "total_medals = np_olympic_country_gold + np_olympic_country_silver + np_olympic_country_bronze\n",
    "for country, total in zip(np_olympic_country, total_medals):\n",
    "    print(f\"{country}: {total} total medals\")"
   ]
  }
 ],
 "metadata": {
  "kernelspec": {
   "display_name": "Python 3 (ipykernel)",
   "language": "python",
   "name": "python3"
  },
  "language_info": {
   "codemirror_mode": {
    "name": "ipython",
    "version": 3
   },
   "file_extension": ".py",
   "mimetype": "text/x-python",
   "name": "python",
   "nbconvert_exporter": "python",
   "pygments_lexer": "ipython3",
   "version": "3.11.4"
  }
 },
 "nbformat": 4,
 "nbformat_minor": 5
}
